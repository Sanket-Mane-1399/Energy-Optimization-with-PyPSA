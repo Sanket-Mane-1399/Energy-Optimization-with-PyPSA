{
 "cells": [
  {
   "cell_type": "markdown",
   "id": "d4d6a7cb-833d-4ee5-9fd2-f25ae37344bd",
   "metadata": {},
   "source": [
    "# Integrating Capacity Expansion Model with Sector Coupling"
   ]
  },
  {
   "cell_type": "code",
   "execution_count": 1,
   "id": "58d90655-de3b-4c87-8da4-d222d4683a62",
   "metadata": {},
   "outputs": [],
   "source": [
    "import pypsa\n",
    "import pandas as pd\n",
    "import numpy as np\n",
    "import matplotlib.pyplot as plt\n",
    "from urllib.request import urlretrieve\n",
    "\n",
    "plt.style.use(\"bmh\")"
   ]
  },
  {
   "cell_type": "markdown",
   "id": "9eb4b5dd-c3c2-41c1-abd9-d8a80ff5bb6e",
   "metadata": {},
   "source": [
    "# Inputs from CEM"
   ]
  },
  {
   "cell_type": "code",
   "execution_count": 2,
   "id": "3bcd9232-38cc-4d47-a2f3-3201aaa9a039",
   "metadata": {},
   "outputs": [],
   "source": [
    "fn = \"network-cem.nc\"\n",
    "url = \"https://tubcloud.tu-berlin.de/s/kpWaraGc9LeaxLK/download/\" + fn"
   ]
  },
  {
   "cell_type": "code",
   "execution_count": 3,
   "id": "e7945b06-690e-40cd-87cf-2949ddc8a012",
   "metadata": {},
   "outputs": [
    {
     "data": {
      "text/plain": [
       "('network-cem.nc', <http.client.HTTPMessage at 0x2d34096f8c0>)"
      ]
     },
     "execution_count": 3,
     "metadata": {},
     "output_type": "execute_result"
    }
   ],
   "source": [
    "urlretrieve(url,fn)"
   ]
  },
  {
   "cell_type": "code",
   "execution_count": 4,
   "id": "ea815179-7eb4-4b33-a409-334f1991c50d",
   "metadata": {},
   "outputs": [
    {
     "name": "stderr",
     "output_type": "stream",
     "text": [
      "WARNING:pypsa.io:Importing network from PyPSA version v0.21.3 while current version is v0.33.2. Read the release notes at https://pypsa.readthedocs.io/en/latest/release_notes.html to prepare your network for import.\n",
      "INFO:pypsa.io:Imported network network-cem.nc has buses, carriers, generators, global_constraints, loads, storage_units\n"
     ]
    },
    {
     "data": {
      "text/plain": [
       "Unnamed PyPSA Network\n",
       "---------------------\n",
       "Components:\n",
       " - Bus: 1\n",
       " - Carrier: 6\n",
       " - Generator: 4\n",
       " - GlobalConstraint: 1\n",
       " - Load: 1\n",
       " - StorageUnit: 2\n",
       "Snapshots: 2190"
      ]
     },
     "execution_count": 4,
     "metadata": {},
     "output_type": "execute_result"
    }
   ],
   "source": [
    "n = pypsa.Network(\"network-cem.nc\")\n",
    "n"
   ]
  },
  {
   "cell_type": "code",
   "execution_count": 5,
   "id": "d1698236-f6e2-4881-857a-3e87175a7a07",
   "metadata": {},
   "outputs": [
    {
     "data": {
      "text/plain": [
       "Index(['Germany'], dtype='object', name='Bus')"
      ]
     },
     "execution_count": 5,
     "metadata": {},
     "output_type": "execute_result"
    }
   ],
   "source": [
    "n.buses.index"
   ]
  },
  {
   "cell_type": "code",
   "execution_count": 6,
   "id": "70109401-6540-4d61-8c47-a7c101a748e4",
   "metadata": {},
   "outputs": [
    {
     "data": {
      "text/plain": [
       "Index(['OCGT', 'onwind', 'offwind', 'solar'], dtype='object', name='Generator')"
      ]
     },
     "execution_count": 6,
     "metadata": {},
     "output_type": "execute_result"
    }
   ],
   "source": [
    "n.generators.index"
   ]
  },
  {
   "cell_type": "code",
   "execution_count": 7,
   "id": "5855d207-02a4-4487-ad9f-06145b577d12",
   "metadata": {},
   "outputs": [
    {
     "data": {
      "text/plain": [
       "Index(['battery storage', 'hydrogen storage underground'], dtype='object', name='StorageUnit')"
      ]
     },
     "execution_count": 7,
     "metadata": {},
     "output_type": "execute_result"
    }
   ],
   "source": [
    "n.storage_units.index"
   ]
  },
  {
   "cell_type": "code",
   "execution_count": 8,
   "id": "2118cd62-017c-4f35-b8a7-f09eadee2d9e",
   "metadata": {},
   "outputs": [
    {
     "name": "stderr",
     "output_type": "stream",
     "text": [
      "C:\\Users\\MS\\AppData\\Local\\Temp\\ipykernel_12688\\3928318549.py:41: DeprecatedWarning:\n",
      "\n",
      "madd is deprecated as of 0.31 and will be removed in 1.0. Use `n.add` as a drop-in replacement instead.\n",
      "\n"
     ]
    },
    {
     "data": {
      "text/plain": [
       "Index(['onwind', 'offwind', 'solar', 'OCGT', 'hydrogen storage underground',\n",
       "       'battery storage', 'hydrogen storage', 'gas storage', 'electrolysis',\n",
       "       'heat pump', 'resistive heater', 'CHP', 'EV charger', 'EV battery'],\n",
       "      dtype='object')"
      ]
     },
     "execution_count": 8,
     "metadata": {},
     "output_type": "execute_result"
    }
   ],
   "source": [
    "# Full list of carriers you want in your network\n",
    "carriers = [\n",
    "    \"onwind\",\n",
    "    \"offwind\",\n",
    "    \"solar\",\n",
    "    \"OCGT\",\n",
    "    \"hydrogen storage underground\",\n",
    "    \"battery storage\",\n",
    "    \"hydrogen storage\",\n",
    "    \"gas storage\",\n",
    "    \"electrolysis\",\n",
    "    \"heat pump\",\n",
    "    \"resistive heater\",\n",
    "    \"CHP\",\n",
    "    \"EV charger\",\n",
    "    \"EV battery\",\n",
    "]\n",
    "\n",
    "# Optional: define colors for plotting (fill missing ones with 'grey')\n",
    "colors = [\n",
    "    \"dodgerblue\",  # onwind\n",
    "    \"aquamarine\",  # offwind\n",
    "    \"gold\",        # solar\n",
    "    \"indianred\",   # OCGT\n",
    "    \"magenta\",     # hydrogen storage underground\n",
    "    \"yellowgreen\", # battery storage\n",
    "    \"magenta\",     # hydrogen storage\n",
    "    \"brown\",       # gas storage\n",
    "    \"blue\",        # electrolysis\n",
    "    \"orange\",      # heat pump\n",
    "    \"red\",         # resistive heater\n",
    "    \"grey\",        # CHP\n",
    "    \"purple\",      # EV charger\n",
    "    \"pink\",\n",
    "]\n",
    "\n",
    "# Optional: CO2 emissions (set to 0 if not available in your costs DataFrame)\n",
    "co2_emissions = [0 for _ in carriers]  # replace with actual CO2 if available\n",
    "\n",
    "# Add/update all carriers in one go\n",
    "n.madd(\"Carrier\", carriers, color=colors, co2_emissions=co2_emissions, overwrite = True)\n"
   ]
  },
  {
   "cell_type": "code",
   "execution_count": 9,
   "id": "201dbb1f-2491-4467-80c7-56f6d34d371d",
   "metadata": {},
   "outputs": [],
   "source": [
    "n.buses.rename(index={\"Germany\": \"electricity\"}, inplace=True)"
   ]
  },
  {
   "cell_type": "code",
   "execution_count": 10,
   "id": "943dd6ed-9937-41cd-9999-b1a22839ac39",
   "metadata": {},
   "outputs": [],
   "source": [
    "n.remove(\"StorageUnit\", \"hydrogen storage underground\")"
   ]
  },
  {
   "cell_type": "code",
   "execution_count": 11,
   "id": "31e6d001-cf62-4088-ab8f-4285fe2e8781",
   "metadata": {},
   "outputs": [
    {
     "data": {
      "text/plain": [
       "Index(['hydrogen'], dtype='object')"
      ]
     },
     "execution_count": 11,
     "metadata": {},
     "output_type": "execute_result"
    }
   ],
   "source": [
    "n.add(\"Bus\", \"hydrogen\", carrier=\"hydrogen\")"
   ]
  },
  {
   "cell_type": "code",
   "execution_count": 12,
   "id": "78378ed9-9db2-43bb-8789-f9d0e2efc46d",
   "metadata": {},
   "outputs": [
    {
     "name": "stderr",
     "output_type": "stream",
     "text": [
      "WARNING:pypsa.io:The following buses are already defined and will be skipped (use overwrite=True to overwrite): hydrogen\n"
     ]
    },
    {
     "data": {
      "text/plain": [
       "Index(['hydrogen'], dtype='object')"
      ]
     },
     "execution_count": 12,
     "metadata": {},
     "output_type": "execute_result"
    }
   ],
   "source": [
    "n.add(\"Bus\", \"hydrogen\", carrier=\"electrolysis\")"
   ]
  },
  {
   "cell_type": "code",
   "execution_count": 13,
   "id": "f96ecdbd-215d-4cbf-bf12-d4ed5e6875d5",
   "metadata": {},
   "outputs": [
    {
     "data": {
      "text/plain": [
       "Index(['electrolysis'], dtype='object')"
      ]
     },
     "execution_count": 13,
     "metadata": {},
     "output_type": "execute_result"
    }
   ],
   "source": [
    "n.add(\n",
    "    \"Link\",\n",
    "    \"electrolysis\",\n",
    "    bus0 = \"electricity\",\n",
    "    bus1 = \"hydrogen\",\n",
    "    carrier = \"electrolysis\",\n",
    "    p_nom_extendable = True,\n",
    "    efficiency = 0.7,\n",
    "    captial_cost = 50e3\n",
    ")"
   ]
  },
  {
   "cell_type": "code",
   "execution_count": 14,
   "id": "82fb7cb6-9425-4f7e-bbbf-52da425a0a6d",
   "metadata": {},
   "outputs": [
    {
     "name": "stderr",
     "output_type": "stream",
     "text": [
      "WARNING:pypsa.io:The following buses are already defined and will be skipped (use overwrite=True to overwrite): hydrogen\n"
     ]
    },
    {
     "data": {
      "text/plain": [
       "Index(['hydrogen'], dtype='object')"
      ]
     },
     "execution_count": 14,
     "metadata": {},
     "output_type": "execute_result"
    }
   ],
   "source": [
    "n.add(\"Bus\", \"hydrogen\", carrier=\"fuel cell\")"
   ]
  },
  {
   "cell_type": "code",
   "execution_count": 15,
   "id": "a1a82ea5-5645-46d0-b67e-bc5eeb72fcfa",
   "metadata": {},
   "outputs": [
    {
     "data": {
      "text/plain": [
       "Index(['fuel cell'], dtype='object')"
      ]
     },
     "execution_count": 15,
     "metadata": {},
     "output_type": "execute_result"
    }
   ],
   "source": [
    "n.add(\n",
    "    \"Link\",\n",
    "    \"fuel cell\",\n",
    "    bus0 = \"hydrogen\",\n",
    "    bus1 = \"electricity\",\n",
    "    p_nom_extendable = True,\n",
    "    efficiency = 0.5,\n",
    "    captial_cost = 120e3\n",
    ")"
   ]
  },
  {
   "cell_type": "code",
   "execution_count": 16,
   "id": "d19b32bd-67b6-4db0-bc8d-76e1658ae329",
   "metadata": {},
   "outputs": [
    {
     "name": "stderr",
     "output_type": "stream",
     "text": [
      "WARNING:pypsa.io:The following carriers are already defined and will be skipped (use overwrite=True to overwrite): hydrogen storage\n"
     ]
    },
    {
     "data": {
      "text/plain": [
       "Index(['hydrogen storage'], dtype='object')"
      ]
     },
     "execution_count": 16,
     "metadata": {},
     "output_type": "execute_result"
    }
   ],
   "source": [
    "n.add(\"Carrier\", \"hydrogen storage\")"
   ]
  },
  {
   "cell_type": "code",
   "execution_count": 17,
   "id": "e8617021-6d24-4e54-9a5a-c050d98399c5",
   "metadata": {},
   "outputs": [
    {
     "data": {
      "text/plain": [
       "Index(['hydrogen storage'], dtype='object')"
      ]
     },
     "execution_count": 17,
     "metadata": {},
     "output_type": "execute_result"
    }
   ],
   "source": [
    "n.add(\n",
    "    \"Store\",\n",
    "    \"hydrogen storage\",\n",
    "    bus=\"hydrogen\",\n",
    "    carrier=\"hydrogen storage\",\n",
    "    capital_cost=140,  # €/MWh/a\n",
    "    e_nom_extendable=True,\n",
    "    cyclic_state_of_charge=True,  # cyclic state of charge\n",
    ")"
   ]
  },
  {
   "cell_type": "code",
   "execution_count": 18,
   "id": "33bc8f5b-8466-4954-a190-873308936a56",
   "metadata": {},
   "outputs": [],
   "source": [
    "p_set = n.loads_t.p_set[\"demand\"].mean()"
   ]
  },
  {
   "cell_type": "code",
   "execution_count": 19,
   "id": "5656121b-654f-4c65-9997-2f9f0bc52960",
   "metadata": {},
   "outputs": [
    {
     "data": {
      "text/plain": [
       "Index(['hydrogen demand'], dtype='object')"
      ]
     },
     "execution_count": 19,
     "metadata": {},
     "output_type": "execute_result"
    }
   ],
   "source": [
    "n.add(\n",
    "    \"Load\",\n",
    "    \"hydrogen demand\",\n",
    "    bus = \"hydrogen\",\n",
    "    carrier = \"hydrogen\",\n",
    "    p_set = p_set\n",
    ")"
   ]
  },
  {
   "cell_type": "code",
   "execution_count": 20,
   "id": "0dfd1be6-8d61-450e-9cfa-6702b8113491",
   "metadata": {},
   "outputs": [
    {
     "data": {
      "text/plain": [
       "Index(['heat'], dtype='object')"
      ]
     },
     "execution_count": 20,
     "metadata": {},
     "output_type": "execute_result"
    }
   ],
   "source": [
    "n.add(\"Bus\", \"heat\", carrier=\"heat\")"
   ]
  },
  {
   "cell_type": "code",
   "execution_count": 21,
   "id": "7f19bbf8-f2f1-4e81-9ef3-94492d04675d",
   "metadata": {},
   "outputs": [],
   "source": [
    "url = \"https://tubcloud.tu-berlin.de/s/mSkHERH8fJCKNXx/download/heat-load-example.csv\"\n",
    "p_set = pd.read_csv(url, index_col = 0, parse_dates= True).squeeze()"
   ]
  },
  {
   "cell_type": "code",
   "execution_count": 22,
   "id": "22dab67c-a83d-4fab-92b3-c46e91973ddd",
   "metadata": {},
   "outputs": [
    {
     "data": {
      "text/plain": [
       "Index(['head demand'], dtype='object')"
      ]
     },
     "execution_count": 22,
     "metadata": {},
     "output_type": "execute_result"
    }
   ],
   "source": [
    "n.add(\n",
    "    \"Load\",\n",
    "    \"head demand\",\n",
    "    bus = \"heat\",\n",
    "    carrier = \"heat\",\n",
    "    p_set = p_set\n",
    ")"
   ]
  },
  {
   "cell_type": "code",
   "execution_count": 23,
   "id": "d6e9dbf8-f8b3-43f8-8fba-c89f61b293ea",
   "metadata": {},
   "outputs": [
    {
     "data": {
      "text/plain": [
       "<Axes: xlabel='snapshot', ylabel='GW'>"
      ]
     },
     "execution_count": 23,
     "metadata": {},
     "output_type": "execute_result"
    },
    {
     "data": {
      "image/png": "[encoded data removed]",
      "text/plain": [
       "<Figure size 1200x400 with 1 Axes>"
      ]
     },
     "metadata": {},
     "output_type": "display_data"
    }
   ],
   "source": [
    "n.loads_t.p_set.div(1e3).plot(figsize=(12, 4), ylabel=\"GW\")"
   ]
  },
  {
   "cell_type": "code",
   "execution_count": 24,
   "id": "0aec0730-2950-4001-ab0a-fd4c5721c63e",
   "metadata": {},
   "outputs": [
    {
     "name": "stdout",
     "output_type": "stream",
     "text": [
      "v_nom            1.0\n",
      "type                \n",
      "x                0.0\n",
      "y                0.0\n",
      "carrier         heat\n",
      "unit                \n",
      "v_mag_pu_set     1.0\n",
      "v_mag_pu_min     0.0\n",
      "v_mag_pu_max     inf\n",
      "control           PQ\n",
      "generator           \n",
      "sub_network         \n",
      "Name: heat, dtype: object\n"
     ]
    }
   ],
   "source": [
    "print(n.buses.loc[\"heat\"])"
   ]
  },
  {
   "cell_type": "code",
   "execution_count": 25,
   "id": "f4fd7d03-5de3-4c25-82bc-415c68daef83",
   "metadata": {},
   "outputs": [],
   "source": [
    "def cop(t_source, t_sink=55):\n",
    "    delta_t = t_sink - t_source\n",
    "    return 6.81 - 0.121 * delta_t + 0.000630 * delta_t**2"
   ]
  },
  {
   "cell_type": "code",
   "execution_count": 26,
   "id": "762ab409-8747-4564-a16a-e4e5b2667868",
   "metadata": {},
   "outputs": [],
   "source": [
    "url = \"https://tubcloud.tu-berlin.de/s/S4jRAQMP5Te96jW/download/ninja_weather_country_DE_merra-2_population_weighted.csv\"\n",
    "temp = pd.read_csv(url, skiprows=2, index_col=0, parse_dates=True).loc[\"2015\", \"temperature\"][::4]"
   ]
  },
  {
   "cell_type": "code",
   "execution_count": 27,
   "id": "4c8fce77-deeb-4de7-aa72-d77f4a2b5e04",
   "metadata": {},
   "outputs": [
    {
     "data": {
      "text/plain": [
       "<Axes: xlabel='time', ylabel='COP'>"
      ]
     },
     "execution_count": 27,
     "metadata": {},
     "output_type": "execute_result"
    },
    {
     "data": {
      "image/png": "[encoded data removed]",
      "text/plain": [
       "<Figure size 640x480 with 1 Axes>"
      ]
     },
     "metadata": {},
     "output_type": "display_data"
    }
   ],
   "source": [
    "cop(temp).plot(ylabel=\"COP\")"
   ]
  },
  {
   "cell_type": "code",
   "execution_count": 28,
   "id": "4fd83b15-f13c-481c-9405-60db628ff366",
   "metadata": {},
   "outputs": [
    {
     "data": {
      "text/plain": [
       "Text(0, 0.5, 'COP [-]')"
      ]
     },
     "execution_count": 28,
     "metadata": {},
     "output_type": "execute_result"
    },
    {
     "data": {
      "image/png": "[encoded data removed]",
      "text/plain": [
       "<Figure size 640x480 with 1 Axes>"
      ]
     },
     "metadata": {},
     "output_type": "display_data"
    }
   ],
   "source": [
    "plt.scatter(temp, cop(temp))\n",
    "plt.xlabel(\"temperature [°C]\")\n",
    "plt.ylabel(\"COP [-]\")"
   ]
  },
  {
   "cell_type": "code",
   "execution_count": 29,
   "id": "fe35ef93-e6e6-4426-835c-e7f2bbaec628",
   "metadata": {},
   "outputs": [
    {
     "data": {
      "text/plain": [
       "Index(['heat pump'], dtype='object')"
      ]
     },
     "execution_count": 29,
     "metadata": {},
     "output_type": "execute_result"
    }
   ],
   "source": [
    "n.add(\n",
    "    \"Link\",\n",
    "    \"heat pump\",\n",
    "    carrier=\"heat pump\",\n",
    "    bus0=\"electricity\",\n",
    "    bus1=\"heat\",\n",
    "    efficiency=cop(temp),\n",
    "    p_nom_extendable=True,\n",
    "    capital_cost=3e5,  # €/MWe/a\n",
    ")"
   ]
  },
  {
   "cell_type": "code",
   "execution_count": 30,
   "id": "095c1d37-59a0-466a-833b-10f39d6b222a",
   "metadata": {},
   "outputs": [
    {
     "data": {
      "text/plain": [
       "Index(['resistive heater'], dtype='object')"
      ]
     },
     "execution_count": 30,
     "metadata": {},
     "output_type": "execute_result"
    }
   ],
   "source": [
    "n.add(\n",
    "    \"Link\",\n",
    "    \"resistive heater\",\n",
    "    carrier=\"resistive heater\",\n",
    "    bus0=\"electricity\",\n",
    "    bus1=\"heat\",\n",
    "    efficiency=0.9,\n",
    "    capital_cost=1e4,  # €/MWe/a\n",
    "    p_nom_extendable=True,\n",
    ")"
   ]
  },
  {
   "cell_type": "code",
   "execution_count": 31,
   "id": "71900de9-ff61-4998-9192-a0cd3428859c",
   "metadata": {},
   "outputs": [],
   "source": [
    "n.remove(\"GlobalConstraint\", \"CO2Limit\")"
   ]
  },
  {
   "cell_type": "code",
   "execution_count": 32,
   "id": "5ef9611d-43ab-482a-83c2-a8749cc3ed10",
   "metadata": {},
   "outputs": [
    {
     "data": {
      "text/plain": [
       "Index(['gas'], dtype='object')"
      ]
     },
     "execution_count": 32,
     "metadata": {},
     "output_type": "execute_result"
    }
   ],
   "source": [
    "n.add(\"Bus\", \"gas\", carrier = \"gas\")"
   ]
  },
  {
   "cell_type": "code",
   "execution_count": 33,
   "id": "b1ca8b10-b519-4c04-a37b-5ba2ce1d2873",
   "metadata": {},
   "outputs": [
    {
     "name": "stderr",
     "output_type": "stream",
     "text": [
      "WARNING:pypsa.io:The following carriers are already defined and will be skipped (use overwrite=True to overwrite): gas storage\n"
     ]
    },
    {
     "data": {
      "text/plain": [
       "Index(['gas storage'], dtype='object')"
      ]
     },
     "execution_count": 33,
     "metadata": {},
     "output_type": "execute_result"
    }
   ],
   "source": [
    "n.add(\"Carrier\", \"gas storage\")"
   ]
  },
  {
   "cell_type": "code",
   "execution_count": 34,
   "id": "47bc452e-c070-4a24-992f-150e69b188ce",
   "metadata": {},
   "outputs": [
    {
     "data": {
      "text/plain": [
       "Index(['gas storage'], dtype='object')"
      ]
     },
     "execution_count": 34,
     "metadata": {},
     "output_type": "execute_result"
    }
   ],
   "source": [
    "n.add(\n",
    "    \"Store\",\n",
    "    \"gas storage\",\n",
    "    carrier = \"gas storage\",\n",
    "    e_initial=100e6,  # MWh\n",
    "    e_nom=100e6,  # MWh\n",
    "    bus=\"gas\",\n",
    "    marginal_cost=150,  # €/MWh_th\n",
    ")"
   ]
  },
  {
   "cell_type": "code",
   "execution_count": 35,
   "id": "a4b15dc4-a377-4ad1-96da-7b4b5318df25",
   "metadata": {},
   "outputs": [],
   "source": [
    "n.remove(\"Generator\", \"OCGT\")"
   ]
  },
  {
   "cell_type": "code",
   "execution_count": 36,
   "id": "61013c2d-0b16-452c-92b1-3a7fbb88cb9f",
   "metadata": {},
   "outputs": [
    {
     "data": {
      "text/plain": [
       "Index(['OCGT'], dtype='object')"
      ]
     },
     "execution_count": 36,
     "metadata": {},
     "output_type": "execute_result"
    }
   ],
   "source": [
    "n.add(\n",
    "    \"Link\",\n",
    "    \"OCGT\",\n",
    "    bus0 = \"gas\",\n",
    "    bus1 = \"electricity\",\n",
    "    carrier = \"OCGT\",\n",
    "    p_nom_extendable=True,\n",
    "    capital_cost=20000,  # €/MW/a\n",
    "    efficiency=0.4,\n",
    ")    "
   ]
  },
  {
   "cell_type": "code",
   "execution_count": 37,
   "id": "329b4279-e9d5-4186-a068-de46a931f988",
   "metadata": {},
   "outputs": [
    {
     "data": {
      "text/plain": [
       "Index(['CHP'], dtype='object')"
      ]
     },
     "execution_count": 37,
     "metadata": {},
     "output_type": "execute_result"
    }
   ],
   "source": [
    "n.add(\n",
    "    \"Link\",\n",
    "    \"CHP\",\n",
    "    bus0=\"gas\",\n",
    "    bus1=\"electricity\",\n",
    "    bus2=\"heat\",\n",
    "    carrier=\"CHP\",\n",
    "    p_nom_extendable=True,\n",
    "    capital_cost=40000,\n",
    "    efficiency=0.4,\n",
    "    efficiency2=0.4,\n",
    ")"
   ]
  },
  {
   "cell_type": "code",
   "execution_count": 38,
   "id": "b84daedf-de50-44b3-a31b-ec0f4c111f23",
   "metadata": {},
   "outputs": [
    {
     "data": {
      "text/plain": [
       "Index(['EV'], dtype='object')"
      ]
     },
     "execution_count": 38,
     "metadata": {},
     "output_type": "execute_result"
    }
   ],
   "source": [
    "n.add(\"Bus\", \"EV\", carrier=\"EV\")"
   ]
  },
  {
   "cell_type": "code",
   "execution_count": 39,
   "id": "eb30a3f9-36d7-42f7-98eb-70a2299f7319",
   "metadata": {},
   "outputs": [],
   "source": [
    "url = \"https://tubcloud.tu-berlin.de/s/9r5bMSbzzQiqG7H/download/electric-vehicle-profile-example.csv\"\n",
    "p_set = pd.read_csv(url, index_col=0, parse_dates=True).squeeze()"
   ]
  },
  {
   "cell_type": "code",
   "execution_count": 40,
   "id": "c96cae5c-857a-4fed-9f79-66e7f17d702d",
   "metadata": {},
   "outputs": [
    {
     "data": {
      "text/plain": [
       "<Axes: xlabel='snapshot', ylabel='GW'>"
      ]
     },
     "execution_count": 40,
     "metadata": {},
     "output_type": "execute_result"
    },
    {
     "data": {
      "image/png": "[encoded data removed]",
      "text/plain": [
       "<Figure size 400x400 with 1 Axes>"
      ]
     },
     "metadata": {},
     "output_type": "display_data"
    }
   ],
   "source": [
    "p_set.loc[\"2015-01-01\"].div(1e3).plot(figsize=(4, 4), ylabel=\"GW\")"
   ]
  },
  {
   "cell_type": "code",
   "execution_count": 41,
   "id": "03faca6e-419b-428e-b370-83cce7d8fdbc",
   "metadata": {},
   "outputs": [
    {
     "data": {
      "text/plain": [
       "Index(['EV demand'], dtype='object')"
      ]
     },
     "execution_count": 41,
     "metadata": {},
     "output_type": "execute_result"
    }
   ],
   "source": [
    "n.add(\"Load\", \"EV demand\", bus=\"EV\", carrier=\"EV demand\", p_set=p_set)"
   ]
  },
  {
   "cell_type": "code",
   "execution_count": 42,
   "id": "f926b5fd-29b2-43a6-a5c1-c9e691fe0230",
   "metadata": {},
   "outputs": [
    {
     "data": {
      "text/plain": [
       "<matplotlib.legend.Legend at 0x2d3474893d0>"
      ]
     },
     "execution_count": 42,
     "metadata": {},
     "output_type": "execute_result"
    },
    {
     "data": {
      "image/png": "[encoded data removed]",
      "text/plain": [
       "<Figure size 1000x300 with 1 Axes>"
      ]
     },
     "metadata": {},
     "output_type": "display_data"
    }
   ],
   "source": [
    "n.loads_t.p_set.div(1e3).plot(figsize=(10, 3), ylabel=\"GW\")\n",
    "plt.axhline(\n",
    "    n.loads.loc[\"hydrogen demand\", \"p_set\"] / 1e3, label=\"hydrogen demand\", color=\"m\"\n",
    ")\n",
    "plt.legend()"
   ]
  },
  {
   "cell_type": "code",
   "execution_count": 43,
   "id": "2d1354d3-55be-4b50-aeb7-add334858217",
   "metadata": {},
   "outputs": [],
   "source": [
    "url = \"https://tubcloud.tu-berlin.de/s/E3PBWPfYaWwCq7a/download/electric-vehicle-availability-example.csv\"\n",
    "availability_profile = pd.read_csv(url, index_col=0, parse_dates=True).squeeze()"
   ]
  },
  {
   "cell_type": "code",
   "execution_count": 44,
   "id": "4b1cf80b-5276-4755-a42f-b8518556d1a3",
   "metadata": {},
   "outputs": [],
   "source": [
    "number_cars = 40e6  #  number of EV cars\n",
    "bev_charger_rate = 0.011  # 3-phase EV charger with 11 kW\n",
    "p_nom = number_cars * bev_charger_rate"
   ]
  },
  {
   "cell_type": "code",
   "execution_count": 45,
   "id": "7efd30ac-4b26-42c2-ad0d-5eee87b7514e",
   "metadata": {},
   "outputs": [
    {
     "data": {
      "text/plain": [
       "Index(['EV charger'], dtype='object')"
      ]
     },
     "execution_count": 45,
     "metadata": {},
     "output_type": "execute_result"
    }
   ],
   "source": [
    "n.add(\"Bus\", \"EV charger\", carrier=\"EV charger\")"
   ]
  },
  {
   "cell_type": "code",
   "execution_count": 46,
   "id": "8a5e8455-d266-4ac3-9105-7c12c0b01923",
   "metadata": {},
   "outputs": [
    {
     "data": {
      "text/plain": [
       "Index(['EV charger'], dtype='object')"
      ]
     },
     "execution_count": 46,
     "metadata": {},
     "output_type": "execute_result"
    }
   ],
   "source": [
    "n.add(\n",
    "    \"Link\",\n",
    "    \"EV charger\",\n",
    "    bus0=\"electricity\",\n",
    "    bus1=\"EV\",\n",
    "    p_nom=p_nom,\n",
    "    carrier=\"EV charger\",\n",
    "    p_max_pu=availability_profile,\n",
    "    efficiency=0.9,\n",
    ")"
   ]
  },
  {
   "cell_type": "code",
   "execution_count": 47,
   "id": "2f8f7219-b65b-4e81-ae3d-b9818d7d0611",
   "metadata": {},
   "outputs": [
    {
     "data": {
      "text/plain": [
       "Index(['V2G'], dtype='object')"
      ]
     },
     "execution_count": 47,
     "metadata": {},
     "output_type": "execute_result"
    }
   ],
   "source": [
    "n.add(\n",
    "    \"Link\",\n",
    "    \"V2G\",\n",
    "    bus0=\"EV\",\n",
    "    bus1=\"electricity\",\n",
    "    p_nom=p_nom,\n",
    "    carrier=\"V2G\",\n",
    "    p_max_pu=availability_profile,\n",
    "    efficiency=0.9,\n",
    ")"
   ]
  },
  {
   "cell_type": "code",
   "execution_count": 48,
   "id": "acbfa9bf-9d4b-4c8f-918b-f0bd14856fb8",
   "metadata": {},
   "outputs": [],
   "source": [
    "bev_energy = 0.05  # average battery size of EV in MWh\n",
    "bev_dsm_participants = 0.5  # share of cars that do smart charging\n",
    "\n",
    "e_nom = number_cars * bev_energy * bev_dsm_participants"
   ]
  },
  {
   "cell_type": "code",
   "execution_count": 49,
   "id": "7298a56e-34b3-4379-b0ee-ec51e74c3559",
   "metadata": {},
   "outputs": [],
   "source": [
    "url = \"https://tubcloud.tu-berlin.de/s/K62yACBRTrxLTia/download/dsm-profile-example.csv\"\n",
    "dsm_profile = pd.read_csv(url, index_col=0, parse_dates=True).squeeze()\n",
    "# Resample to 4-hour resolution, taking the mean over each 4h block\n",
    "dsm_profile = dsm_profile.resample(\"4h\").mean()"
   ]
  },
  {
   "cell_type": "code",
   "execution_count": 50,
   "id": "52261dba-5c96-4849-96d0-11dd5bb832c4",
   "metadata": {},
   "outputs": [
    {
     "data": {
      "text/plain": [
       "<Axes: xlabel='snapshot'>"
      ]
     },
     "execution_count": 50,
     "metadata": {},
     "output_type": "execute_result"
    },
    {
     "data": {
      "image/png": "[encoded data removed]",
      "text/plain": [
       "<Figure size 500x200 with 1 Axes>"
      ]
     },
     "metadata": {},
     "output_type": "display_data"
    }
   ],
   "source": [
    "dsm_profile.loc[\"2015-01-01\"].plot(figsize=(5, 2), ylim=(0, 1))"
   ]
  },
  {
   "cell_type": "code",
   "execution_count": 51,
   "id": "99099c6c-8dab-4634-adad-549a870bbeef",
   "metadata": {},
   "outputs": [],
   "source": [
    "year = 2030\n",
    "url = f\"https://raw.githubusercontent.com/PyPSA/technology-data/master/outputs/costs_{year}.csv\"\n",
    "costs = pd.read_csv(url, index_col = [0,1])"
   ]
  },
  {
   "cell_type": "code",
   "execution_count": 52,
   "id": "82245d82-579b-4585-b2f3-7fdf8bea7ac7",
   "metadata": {},
   "outputs": [],
   "source": [
    "costs.loc[costs.unit.str.contains(\"/kW\"),\"value\"] *= 1e3\n",
    "costs.unit = costs.unit.str.replace(\"/kW\", \"/MW\")\n",
    "\n",
    "defaults = {\n",
    "    \"FOM\": 0,\n",
    "    \"VOM\": 0,\n",
    "    \"efficiency\": 1,\n",
    "    \"fuel\": 0,\n",
    "    \"investment\": 0,\n",
    "    \"lifetime\": 25,\n",
    "    \"CO2 intensity\": 0,\n",
    "    \"discount rate\": 0.07,\n",
    "}\n",
    "costs = costs.value.unstack().fillna(defaults)\n",
    "\n",
    "costs.at[\"OCGT\", \"fuel\"] = costs.at[\"gas\", \"fuel\"]\n",
    "costs.at[\"CCGT\", \"fuel\"] = costs.at[\"gas\", \"fuel\"]\n",
    "\n",
    "costs.at[\"OCGT\", \"CO2 intensity\"] = costs.at[\"gas\", \"CO2 intensity\"]\n",
    "costs.at[\"CCGT\", \"CO2 intensity\"] = costs.at[\"gas\", \"CO2 intensity\"]"
   ]
  },
  {
   "cell_type": "code",
   "execution_count": 53,
   "id": "ab718b0b-3eb6-4965-b1b0-a4bdeae5e529",
   "metadata": {},
   "outputs": [],
   "source": [
    "def annuity_func(r,n):\n",
    "    return r / (1.0 - 1.0 / (1.0 + r) ** n)"
   ]
  },
  {
   "cell_type": "code",
   "execution_count": 54,
   "id": "0dbedc95-c63f-4eae-a545-a0957dadb63c",
   "metadata": {},
   "outputs": [],
   "source": [
    "annuity = costs.apply(lambda x: annuity_func(x[\"discount rate\"], x[\"lifetime\"]), axis=1)"
   ]
  },
  {
   "cell_type": "code",
   "execution_count": 55,
   "id": "be75f2a0-54ac-451c-87c3-c7bd19de2c2f",
   "metadata": {},
   "outputs": [],
   "source": [
    "costs[\"marginal_cost\"] = costs[\"VOM\"] + costs[\"fuel\"]/ costs[\"efficiency\"]\n",
    "costs[\"capital_cost\"] = (annuity + costs[\"FOM\"]/100) * costs[\"investment\"]"
   ]
  },
  {
   "cell_type": "code",
   "execution_count": 56,
   "id": "6c04880c-2c18-4423-8d45-ab408e70a72d",
   "metadata": {},
   "outputs": [
    {
     "data": {
      "text/plain": [
       "Index(['battery storage'], dtype='object')"
      ]
     },
     "execution_count": 56,
     "metadata": {},
     "output_type": "execute_result"
    }
   ],
   "source": [
    "n.add(\n",
    "    \"StorageUnit\",\n",
    "    \"battery storage\",\n",
    "    bus=\"electricity\",\n",
    "    carrier=\"battery storage\",\n",
    "    max_hours=6,\n",
    "    capital_cost=costs.at[\"battery inverter\", \"capital_cost\"]\n",
    "    + 6 * costs.at[\"battery storage\", \"capital_cost\"],\n",
    "    efficiency_store=costs.at[\"battery inverter\", \"efficiency\"],\n",
    "    efficiency_dispatch=costs.at[\"battery inverter\", \"efficiency\"],\n",
    "    p_nom_extendable=True,\n",
    "    cyclic_state_of_charge=True,\n",
    "    overwrite = True,\n",
    ")"
   ]
  },
  {
   "cell_type": "code",
   "execution_count": 57,
   "id": "81676a74-ab13-44d8-8b28-b96fbcc38922",
   "metadata": {},
   "outputs": [
    {
     "data": {
      "text/plain": [
       "Index(['EV DSM'], dtype='object', name='Store')"
      ]
     },
     "execution_count": 57,
     "metadata": {},
     "output_type": "execute_result"
    }
   ],
   "source": [
    "n.add(\n",
    "    \"Store\",\n",
    "    \"EV DSM\",\n",
    "    bus=\"EV\",\n",
    "    carrier=\"EV battery\",\n",
    "    e_cyclic=True,  # state of charge at beginning = state of charge at the end\n",
    "    e_nom=e_nom,\n",
    "    e_min_pu=dsm_profile,\n",
    "    overwrite = True\n",
    ")"
   ]
  },
  {
   "cell_type": "code",
   "execution_count": 58,
   "id": "9925bdcd-88ce-4334-bee3-f0a064043657",
   "metadata": {},
   "outputs": [],
   "source": [
    "n.loads.at[\"demand\", \"bus\"] = \"electricity\"  # make sure electricity bus exists\n",
    "n.generators.at[\"onwind\", \"bus\"] = \"electricity\"\n",
    "n.generators.at[\"offwind\", \"bus\"] = \"electricity\"\n",
    "n.generators.at[\"solar\", \"bus\"] = \"electricity\""
   ]
  },
  {
   "cell_type": "code",
   "execution_count": 59,
   "id": "3de02c23-84d1-4c36-8134-1afc8d461cfb",
   "metadata": {},
   "outputs": [
    {
     "name": "stderr",
     "output_type": "stream",
     "text": [
      "WARNING:pypsa.consistency:The following buses have carriers which are not defined:\n",
      "Index(['electricity', 'hydrogen', 'heat', 'gas', 'EV'], dtype='object', name='Bus')\n",
      "WARNING:pypsa.consistency:The following loads have carriers which are not defined:\n",
      "Index(['hydrogen demand', 'head demand', 'EV demand'], dtype='object', name='Load')\n",
      "WARNING:pypsa.consistency:The following links have carriers which are not defined:\n",
      "Index(['fuel cell', 'V2G'], dtype='object', name='Link')\n",
      "WARNING:pypsa.consistency:Encountered nan's in static data for columns ['efficiency2'] of component 'Link'.\n",
      "WARNING:pypsa.consistency:The following buses have no attached components, which can break the lopf: {'EV charger'}\n",
      "INFO:linopy.model: Solve problem using Gurobi solver\n",
      "INFO:linopy.io:Writing objective.\n",
      "Writing constraints.: 100%|\u001b[38;2;128;191;255m████████████████████████████████████████████████████████████\u001b[0m| 27/27 [00:00<00:00, 36.52it/s]\u001b[0m\n",
      "Writing continuous variables.: 100%|\u001b[38;2;128;191;255m███████████████████████████████████████████████████\u001b[0m| 11/11 [00:00<00:00, 86.93it/s]\u001b[0m\n",
      "INFO:linopy.io: Writing time: 0.92s\n"
     ]
    },
    {
     "name": "stdout",
     "output_type": "stream",
     "text": [
      "Set parameter Username\n"
     ]
    },
    {
     "name": "stderr",
     "output_type": "stream",
     "text": [
      "INFO:gurobipy:Set parameter Username\n"
     ]
    },
    {
     "name": "stdout",
     "output_type": "stream",
     "text": [
      "Set parameter LicenseID to value 2708452\n"
     ]
    },
    {
     "name": "stderr",
     "output_type": "stream",
     "text": [
      "INFO:gurobipy:Set parameter LicenseID to value 2708452\n"
     ]
    },
    {
     "name": "stdout",
     "output_type": "stream",
     "text": [
      "Academic license - for non-commercial use only - expires 2026-09-13\n"
     ]
    },
    {
     "name": "stderr",
     "output_type": "stream",
     "text": [
      "INFO:gurobipy:Academic license - for non-commercial use only - expires 2026-09-13\n"
     ]
    },
    {
     "name": "stdout",
     "output_type": "stream",
     "text": [
      "Read LP format model from file C:\\Users\\MS\\AppData\\Local\\Temp\\linopy-problem-7bt3z88d.lp\n"
     ]
    },
    {
     "name": "stderr",
     "output_type": "stream",
     "text": [
      "INFO:gurobipy:Read LP format model from file C:\\Users\\MS\\AppData\\Local\\Temp\\linopy-problem-7bt3z88d.lp\n"
     ]
    },
    {
     "name": "stdout",
     "output_type": "stream",
     "text": [
      "Reading time = 0.19 seconds\n"
     ]
    },
    {
     "name": "stderr",
     "output_type": "stream",
     "text": [
      "INFO:gurobipy:Reading time = 0.19 seconds\n"
     ]
    },
    {
     "name": "stdout",
     "output_type": "stream",
     "text": [
      "obj: 94181 rows, 43811 columns, 185109 nonzeros\n"
     ]
    },
    {
     "name": "stderr",
     "output_type": "stream",
     "text": [
      "INFO:gurobipy:obj: 94181 rows, 43811 columns, 185109 nonzeros\n"
     ]
    },
    {
     "name": "stdout",
     "output_type": "stream",
     "text": [
      "Gurobi Optimizer version 12.0.3 build v12.0.3rc0 (win64 - Windows 11.0 (26100.2))\n"
     ]
    },
    {
     "name": "stderr",
     "output_type": "stream",
     "text": [
      "INFO:gurobipy:Gurobi Optimizer version 12.0.3 build v12.0.3rc0 (win64 - Windows 11.0 (26100.2))\n"
     ]
    },
    {
     "name": "stdout",
     "output_type": "stream",
     "text": [
      "\n"
     ]
    },
    {
     "name": "stderr",
     "output_type": "stream",
     "text": [
      "INFO:gurobipy:\n"
     ]
    },
    {
     "name": "stdout",
     "output_type": "stream",
     "text": [
      "CPU model: Intel(R) Core(TM) i5-8265U CPU @ 1.60GHz, instruction set [SSE2|AVX|AVX2]\n"
     ]
    },
    {
     "name": "stderr",
     "output_type": "stream",
     "text": [
      "INFO:gurobipy:CPU model: Intel(R) Core(TM) i5-8265U CPU @ 1.60GHz, instruction set [SSE2|AVX|AVX2]\n"
     ]
    },
    {
     "name": "stdout",
     "output_type": "stream",
     "text": [
      "Thread count: 4 physical cores, 8 logical processors, using up to 8 threads\n"
     ]
    },
    {
     "name": "stderr",
     "output_type": "stream",
     "text": [
      "INFO:gurobipy:Thread count: 4 physical cores, 8 logical processors, using up to 8 threads\n"
     ]
    },
    {
     "name": "stdout",
     "output_type": "stream",
     "text": [
      "\n"
     ]
    },
    {
     "name": "stderr",
     "output_type": "stream",
     "text": [
      "INFO:gurobipy:\n"
     ]
    },
    {
     "name": "stdout",
     "output_type": "stream",
     "text": [
      "Optimize a model with 94181 rows, 43811 columns and 185109 nonzeros\n"
     ]
    },
    {
     "name": "stderr",
     "output_type": "stream",
     "text": [
      "INFO:gurobipy:Optimize a model with 94181 rows, 43811 columns and 185109 nonzeros\n"
     ]
    },
    {
     "name": "stdout",
     "output_type": "stream",
     "text": [
      "Model fingerprint: 0x0edce890\n"
     ]
    },
    {
     "name": "stderr",
     "output_type": "stream",
     "text": [
      "INFO:gurobipy:Model fingerprint: 0x0edce890\n"
     ]
    },
    {
     "name": "stdout",
     "output_type": "stream",
     "text": [
      "Coefficient statistics:\n"
     ]
    },
    {
     "name": "stderr",
     "output_type": "stream",
     "text": [
      "INFO:gurobipy:Coefficient statistics:\n"
     ]
    },
    {
     "name": "stdout",
     "output_type": "stream",
     "text": [
      "  Matrix range     [1e-04, 6e+00]\n"
     ]
    },
    {
     "name": "stderr",
     "output_type": "stream",
     "text": [
      "INFO:gurobipy:  Matrix range     [1e-04, 6e+00]\n"
     ]
    },
    {
     "name": "stdout",
     "output_type": "stream",
     "text": [
      "  Objective range  [4e-02, 3e+05]\n"
     ]
    },
    {
     "name": "stderr",
     "output_type": "stream",
     "text": [
      "INFO:gurobipy:  Objective range  [4e-02, 3e+05]\n"
     ]
    },
    {
     "name": "stdout",
     "output_type": "stream",
     "text": [
      "  Bounds range     [0e+00, 0e+00]\n"
     ]
    },
    {
     "name": "stderr",
     "output_type": "stream",
     "text": [
      "INFO:gurobipy:  Bounds range     [0e+00, 0e+00]\n"
     ]
    },
    {
     "name": "stdout",
     "output_type": "stream",
     "text": [
      "  RHS range        [2e+03, 1e+08]\n"
     ]
    },
    {
     "name": "stderr",
     "output_type": "stream",
     "text": [
      "INFO:gurobipy:  RHS range        [2e+03, 1e+08]\n"
     ]
    },
    {
     "name": "stdout",
     "output_type": "stream",
     "text": [
      "Presolve removed 60191 rows and 9813 columns\n"
     ]
    },
    {
     "name": "stderr",
     "output_type": "stream",
     "text": [
      "INFO:gurobipy:Presolve removed 60191 rows and 9813 columns\n"
     ]
    },
    {
     "name": "stdout",
     "output_type": "stream",
     "text": [
      "Presolve time: 0.20s\n"
     ]
    },
    {
     "name": "stderr",
     "output_type": "stream",
     "text": [
      "INFO:gurobipy:Presolve time: 0.20s\n"
     ]
    },
    {
     "name": "stdout",
     "output_type": "stream",
     "text": [
      "Presolved: 33990 rows, 33998 columns, 110726 nonzeros\n"
     ]
    },
    {
     "name": "stderr",
     "output_type": "stream",
     "text": [
      "INFO:gurobipy:Presolved: 33990 rows, 33998 columns, 110726 nonzeros\n"
     ]
    },
    {
     "name": "stdout",
     "output_type": "stream",
     "text": [
      "\n"
     ]
    },
    {
     "name": "stderr",
     "output_type": "stream",
     "text": [
      "INFO:gurobipy:\n"
     ]
    },
    {
     "name": "stdout",
     "output_type": "stream",
     "text": [
      "Concurrent LP optimizer: dual simplex and barrier\n"
     ]
    },
    {
     "name": "stderr",
     "output_type": "stream",
     "text": [
      "INFO:gurobipy:Concurrent LP optimizer: dual simplex and barrier\n"
     ]
    },
    {
     "name": "stdout",
     "output_type": "stream",
     "text": [
      "Showing barrier log only...\n"
     ]
    },
    {
     "name": "stderr",
     "output_type": "stream",
     "text": [
      "INFO:gurobipy:Showing barrier log only...\n"
     ]
    },
    {
     "name": "stdout",
     "output_type": "stream",
     "text": [
      "\n"
     ]
    },
    {
     "name": "stderr",
     "output_type": "stream",
     "text": [
      "INFO:gurobipy:\n"
     ]
    },
    {
     "name": "stdout",
     "output_type": "stream",
     "text": [
      "Ordering time: 0.02s\n"
     ]
    },
    {
     "name": "stderr",
     "output_type": "stream",
     "text": [
      "INFO:gurobipy:Ordering time: 0.02s\n"
     ]
    },
    {
     "name": "stdout",
     "output_type": "stream",
     "text": [
      "\n"
     ]
    },
    {
     "name": "stderr",
     "output_type": "stream",
     "text": [
      "INFO:gurobipy:\n"
     ]
    },
    {
     "name": "stdout",
     "output_type": "stream",
     "text": [
      "Barrier statistics:\n"
     ]
    },
    {
     "name": "stderr",
     "output_type": "stream",
     "text": [
      "INFO:gurobipy:Barrier statistics:\n"
     ]
    },
    {
     "name": "stdout",
     "output_type": "stream",
     "text": [
      " Dense cols : 9\n"
     ]
    },
    {
     "name": "stderr",
     "output_type": "stream",
     "text": [
      "INFO:gurobipy: Dense cols : 9\n"
     ]
    },
    {
     "name": "stdout",
     "output_type": "stream",
     "text": [
      " AA' NZ     : 8.550e+04\n"
     ]
    },
    {
     "name": "stderr",
     "output_type": "stream",
     "text": [
      "INFO:gurobipy: AA' NZ     : 8.550e+04\n"
     ]
    },
    {
     "name": "stdout",
     "output_type": "stream",
     "text": [
      " Factor NZ  : 4.610e+05 (roughly 30 MB of memory)\n"
     ]
    },
    {
     "name": "stderr",
     "output_type": "stream",
     "text": [
      "INFO:gurobipy: Factor NZ  : 4.610e+05 (roughly 30 MB of memory)\n"
     ]
    },
    {
     "name": "stdout",
     "output_type": "stream",
     "text": [
      " Factor Ops : 7.868e+06 (less than 1 second per iteration)\n"
     ]
    },
    {
     "name": "stderr",
     "output_type": "stream",
     "text": [
      "INFO:gurobipy: Factor Ops : 7.868e+06 (less than 1 second per iteration)\n"
     ]
    },
    {
     "name": "stdout",
     "output_type": "stream",
     "text": [
      " Threads    : 3\n"
     ]
    },
    {
     "name": "stderr",
     "output_type": "stream",
     "text": [
      "INFO:gurobipy: Threads    : 3\n"
     ]
    },
    {
     "name": "stdout",
     "output_type": "stream",
     "text": [
      "\n"
     ]
    },
    {
     "name": "stderr",
     "output_type": "stream",
     "text": [
      "INFO:gurobipy:\n"
     ]
    },
    {
     "name": "stdout",
     "output_type": "stream",
     "text": [
      "                  Objective                Residual\n"
     ]
    },
    {
     "name": "stderr",
     "output_type": "stream",
     "text": [
      "INFO:gurobipy:                  Objective                Residual\n"
     ]
    },
    {
     "name": "stdout",
     "output_type": "stream",
     "text": [
      "Iter       Primal          Dual         Primal    Dual     Compl     Time\n"
     ]
    },
    {
     "name": "stderr",
     "output_type": "stream",
     "text": [
      "INFO:gurobipy:Iter       Primal          Dual         Primal    Dual     Compl     Time\n"
     ]
    },
    {
     "name": "stdout",
     "output_type": "stream",
     "text": [
      "   0   1.01096603e+13 -1.63476751e+13  8.88e+09 0.00e+00  1.20e+10     0s\n"
     ]
    },
    {
     "name": "stderr",
     "output_type": "stream",
     "text": [
      "INFO:gurobipy:   0   1.01096603e+13 -1.63476751e+13  8.88e+09 0.00e+00  1.20e+10     0s\n"
     ]
    },
    {
     "name": "stdout",
     "output_type": "stream",
     "text": [
      "   1   9.91242233e+12 -1.57769316e+13  1.50e+09 8.31e+02  3.05e+09     0s\n"
     ]
    },
    {
     "name": "stderr",
     "output_type": "stream",
     "text": [
      "INFO:gurobipy:   1   9.91242233e+12 -1.57769316e+13  1.50e+09 8.31e+02  3.05e+09     0s\n"
     ]
    },
    {
     "name": "stdout",
     "output_type": "stream",
     "text": [
      "   2   6.53457889e+12 -6.83065603e+12  6.17e+07 7.04e+01  3.75e+08     0s\n"
     ]
    },
    {
     "name": "stderr",
     "output_type": "stream",
     "text": [
      "INFO:gurobipy:   2   6.53457889e+12 -6.83065603e+12  6.17e+07 7.04e+01  3.75e+08     0s\n"
     ]
    },
    {
     "name": "stdout",
     "output_type": "stream",
     "text": [
      "   3   2.64895508e+12 -1.20472496e+12  1.01e+07 1.04e+01  7.53e+07     0s\n"
     ]
    },
    {
     "name": "stderr",
     "output_type": "stream",
     "text": [
      "INFO:gurobipy:   3   2.64895508e+12 -1.20472496e+12  1.01e+07 1.04e+01  7.53e+07     0s\n"
     ]
    },
    {
     "name": "stdout",
     "output_type": "stream",
     "text": [
      "   4   1.49937247e+12 -4.01492742e+11  4.90e+06 3.45e+00  3.20e+07     0s\n"
     ]
    },
    {
     "name": "stderr",
     "output_type": "stream",
     "text": [
      "INFO:gurobipy:   4   1.49937247e+12 -4.01492742e+11  4.90e+06 3.45e+00  3.20e+07     0s\n"
     ]
    },
    {
     "name": "stdout",
     "output_type": "stream",
     "text": [
      "   5   6.48524060e+11 -1.56428652e+11  1.69e+06 1.71e+00  1.29e+07     1s\n"
     ]
    },
    {
     "name": "stderr",
     "output_type": "stream",
     "text": [
      "INFO:gurobipy:   5   6.48524060e+11 -1.56428652e+11  1.69e+06 1.71e+00  1.29e+07     1s\n"
     ]
    },
    {
     "name": "stdout",
     "output_type": "stream",
     "text": [
      "   6   4.45263509e+11 -6.57227380e+10  1.03e+06 1.09e+00  8.05e+06     1s\n"
     ]
    },
    {
     "name": "stderr",
     "output_type": "stream",
     "text": [
      "INFO:gurobipy:   6   4.45263509e+11 -6.57227380e+10  1.03e+06 1.09e+00  8.05e+06     1s\n"
     ]
    },
    {
     "name": "stdout",
     "output_type": "stream",
     "text": [
      "   7   3.27505589e+11 -1.35249928e+10  6.49e+05 7.25e-01  5.30e+06     1s\n"
     ]
    },
    {
     "name": "stderr",
     "output_type": "stream",
     "text": [
      "INFO:gurobipy:   7   3.27505589e+11 -1.35249928e+10  6.49e+05 7.25e-01  5.30e+06     1s\n"
     ]
    },
    {
     "name": "stdout",
     "output_type": "stream",
     "text": [
      "   8   2.64917003e+11  8.41556490e+09  4.55e+05 5.84e-01  3.99e+06     1s\n"
     ]
    },
    {
     "name": "stderr",
     "output_type": "stream",
     "text": [
      "INFO:gurobipy:   8   2.64917003e+11  8.41556490e+09  4.55e+05 5.84e-01  3.99e+06     1s\n"
     ]
    },
    {
     "name": "stdout",
     "output_type": "stream",
     "text": [
      "   9   2.54573795e+11  1.65257145e+10  4.23e+05 5.36e-01  3.70e+06     1s\n"
     ]
    },
    {
     "name": "stderr",
     "output_type": "stream",
     "text": [
      "INFO:gurobipy:   9   2.54573795e+11  1.65257145e+10  4.23e+05 5.36e-01  3.70e+06     1s\n"
     ]
    },
    {
     "name": "stdout",
     "output_type": "stream",
     "text": [
      "  10   2.12336365e+11  5.80586901e+10  2.97e+05 3.01e-01  2.37e+06     1s\n"
     ]
    },
    {
     "name": "stderr",
     "output_type": "stream",
     "text": [
      "INFO:gurobipy:  10   2.12336365e+11  5.80586901e+10  2.97e+05 3.01e-01  2.37e+06     1s\n"
     ]
    },
    {
     "name": "stdout",
     "output_type": "stream",
     "text": [
      "  11   1.91303948e+11  7.31477153e+10  2.29e+05 2.23e-01  1.82e+06     1s\n"
     ]
    },
    {
     "name": "stderr",
     "output_type": "stream",
     "text": [
      "INFO:gurobipy:  11   1.91303948e+11  7.31477153e+10  2.29e+05 2.23e-01  1.82e+06     1s\n"
     ]
    },
    {
     "name": "stdout",
     "output_type": "stream",
     "text": [
      "  12   1.62133597e+11  8.72605270e+10  1.37e+05 1.54e-01  1.19e+06     1s\n"
     ]
    },
    {
     "name": "stderr",
     "output_type": "stream",
     "text": [
      "INFO:gurobipy:  12   1.62133597e+11  8.72605270e+10  1.37e+05 1.54e-01  1.19e+06     1s\n"
     ]
    },
    {
     "name": "stdout",
     "output_type": "stream",
     "text": [
      "  13   1.46054826e+11  9.44486870e+10  8.63e+04 1.21e-01  8.40e+05     1s\n"
     ]
    },
    {
     "name": "stderr",
     "output_type": "stream",
     "text": [
      "INFO:gurobipy:  13   1.46054826e+11  9.44486870e+10  8.63e+04 1.21e-01  8.40e+05     1s\n"
     ]
    },
    {
     "name": "stdout",
     "output_type": "stream",
     "text": [
      "  14   1.42060904e+11  9.96705347e+10  7.04e+04 9.89e-02  6.91e+05     1s\n"
     ]
    },
    {
     "name": "stderr",
     "output_type": "stream",
     "text": [
      "INFO:gurobipy:  14   1.42060904e+11  9.96705347e+10  7.04e+04 9.89e-02  6.91e+05     1s\n"
     ]
    },
    {
     "name": "stdout",
     "output_type": "stream",
     "text": [
      "  15   1.40280540e+11  1.06101859e+11  6.33e+04 7.18e-02  5.50e+05     1s\n"
     ]
    },
    {
     "name": "stderr",
     "output_type": "stream",
     "text": [
      "INFO:gurobipy:  15   1.40280540e+11  1.06101859e+11  6.33e+04 7.18e-02  5.50e+05     1s\n"
     ]
    },
    {
     "name": "stdout",
     "output_type": "stream",
     "text": [
      "  16   1.35492774e+11  1.08258127e+11  4.58e+04 6.29e-02  4.45e+05     1s\n"
     ]
    },
    {
     "name": "stderr",
     "output_type": "stream",
     "text": [
      "INFO:gurobipy:  16   1.35492774e+11  1.08258127e+11  4.58e+04 6.29e-02  4.45e+05     1s\n"
     ]
    },
    {
     "name": "stdout",
     "output_type": "stream",
     "text": [
      "  17   1.34146955e+11  1.09965344e+11  4.07e+04 5.61e-02  3.96e+05     1s\n"
     ]
    },
    {
     "name": "stderr",
     "output_type": "stream",
     "text": [
      "INFO:gurobipy:  17   1.34146955e+11  1.09965344e+11  4.07e+04 5.61e-02  3.96e+05     1s\n"
     ]
    },
    {
     "name": "stdout",
     "output_type": "stream",
     "text": [
      "  18   1.33126029e+11  1.11399179e+11  3.65e+04 5.00e-02  3.56e+05     1s\n"
     ]
    },
    {
     "name": "stderr",
     "output_type": "stream",
     "text": [
      "INFO:gurobipy:  18   1.33126029e+11  1.11399179e+11  3.65e+04 5.00e-02  3.56e+05     1s\n"
     ]
    },
    {
     "name": "stdout",
     "output_type": "stream",
     "text": [
      "  19   1.31188555e+11  1.12105727e+11  2.91e+04 4.68e-02  3.16e+05     1s\n"
     ]
    },
    {
     "name": "stderr",
     "output_type": "stream",
     "text": [
      "INFO:gurobipy:  19   1.31188555e+11  1.12105727e+11  2.91e+04 4.68e-02  3.16e+05     1s\n"
     ]
    },
    {
     "name": "stdout",
     "output_type": "stream",
     "text": [
      "  20   1.30093051e+11  1.14933168e+11  2.46e+04 3.55e-02  2.50e+05     1s\n"
     ]
    },
    {
     "name": "stderr",
     "output_type": "stream",
     "text": [
      "INFO:gurobipy:  20   1.30093051e+11  1.14933168e+11  2.46e+04 3.55e-02  2.50e+05     1s\n"
     ]
    },
    {
     "name": "stdout",
     "output_type": "stream",
     "text": [
      "  21   1.29088277e+11  1.15881350e+11  2.07e+04 3.17e-02  2.19e+05     1s\n"
     ]
    },
    {
     "name": "stderr",
     "output_type": "stream",
     "text": [
      "INFO:gurobipy:  21   1.29088277e+11  1.15881350e+11  2.07e+04 3.17e-02  2.19e+05     1s\n"
     ]
    },
    {
     "name": "stdout",
     "output_type": "stream",
     "text": [
      "  22   1.28451703e+11  1.16748713e+11  1.66e+04 2.84e-02  1.94e+05     1s\n"
     ]
    },
    {
     "name": "stderr",
     "output_type": "stream",
     "text": [
      "INFO:gurobipy:  22   1.28451703e+11  1.16748713e+11  1.66e+04 2.84e-02  1.94e+05     1s\n"
     ]
    },
    {
     "name": "stdout",
     "output_type": "stream",
     "text": [
      "  23   1.27560340e+11  1.17384313e+11  1.30e+04 2.58e-02  1.70e+05     1s\n"
     ]
    },
    {
     "name": "stderr",
     "output_type": "stream",
     "text": [
      "INFO:gurobipy:  23   1.27560340e+11  1.17384313e+11  1.30e+04 2.58e-02  1.70e+05     1s\n"
     ]
    },
    {
     "name": "stdout",
     "output_type": "stream",
     "text": [
      "  24   1.26763739e+11  1.18276917e+11  9.63e+03 2.24e-02  1.43e+05     2s\n"
     ]
    },
    {
     "name": "stderr",
     "output_type": "stream",
     "text": [
      "INFO:gurobipy:  24   1.26763739e+11  1.18276917e+11  9.63e+03 2.24e-02  1.43e+05     2s\n"
     ]
    },
    {
     "name": "stdout",
     "output_type": "stream",
     "text": [
      "  25   1.26194077e+11  1.20632172e+11  7.51e+03 1.31e-02  9.21e+04     2s\n"
     ]
    },
    {
     "name": "stderr",
     "output_type": "stream",
     "text": [
      "INFO:gurobipy:  25   1.26194077e+11  1.20632172e+11  7.51e+03 1.31e-02  9.21e+04     2s\n"
     ]
    },
    {
     "name": "stdout",
     "output_type": "stream",
     "text": [
      "  26   1.26152373e+11  1.20761670e+11  7.34e+03 1.26e-02  8.92e+04     2s\n"
     ]
    },
    {
     "name": "stderr",
     "output_type": "stream",
     "text": [
      "INFO:gurobipy:  26   1.26152373e+11  1.20761670e+11  7.34e+03 1.26e-02  8.92e+04     2s\n"
     ]
    },
    {
     "name": "stdout",
     "output_type": "stream",
     "text": [
      "  27   1.25822483e+11  1.21144151e+11  5.93e+03 1.11e-02  7.75e+04     2s\n"
     ]
    },
    {
     "name": "stderr",
     "output_type": "stream",
     "text": [
      "INFO:gurobipy:  27   1.25822483e+11  1.21144151e+11  5.93e+03 1.11e-02  7.75e+04     2s\n"
     ]
    },
    {
     "name": "stdout",
     "output_type": "stream",
     "text": [
      "  28   1.25513998e+11  1.22030406e+11  4.86e+03 7.60e-03  5.71e+04     2s\n"
     ]
    },
    {
     "name": "stderr",
     "output_type": "stream",
     "text": [
      "INFO:gurobipy:  28   1.25513998e+11  1.22030406e+11  4.86e+03 7.60e-03  5.71e+04     2s\n"
     ]
    },
    {
     "name": "stdout",
     "output_type": "stream",
     "text": [
      "  29   1.25069394e+11  1.22443053e+11  3.11e+03 6.08e-03  4.34e+04     2s\n"
     ]
    },
    {
     "name": "stderr",
     "output_type": "stream",
     "text": [
      "INFO:gurobipy:  29   1.25069394e+11  1.22443053e+11  3.11e+03 6.08e-03  4.34e+04     2s\n"
     ]
    },
    {
     "name": "stdout",
     "output_type": "stream",
     "text": [
      "  30   1.24735881e+11  1.22720736e+11  1.90e+03 5.09e-03  3.37e+04     2s\n"
     ]
    },
    {
     "name": "stderr",
     "output_type": "stream",
     "text": [
      "INFO:gurobipy:  30   1.24735881e+11  1.22720736e+11  1.90e+03 5.09e-03  3.37e+04     2s\n"
     ]
    },
    {
     "name": "stdout",
     "output_type": "stream",
     "text": [
      "  31   1.24535042e+11  1.23241713e+11  1.17e+03 3.25e-03  2.16e+04     2s\n"
     ]
    },
    {
     "name": "stderr",
     "output_type": "stream",
     "text": [
      "INFO:gurobipy:  31   1.24535042e+11  1.23241713e+11  1.17e+03 3.25e-03  2.16e+04     2s\n"
     ]
    },
    {
     "name": "stdout",
     "output_type": "stream",
     "text": [
      "  32   1.24420472e+11  1.23550120e+11  7.87e+02 2.13e-03  1.45e+04     2s\n"
     ]
    },
    {
     "name": "stderr",
     "output_type": "stream",
     "text": [
      "INFO:gurobipy:  32   1.24420472e+11  1.23550120e+11  7.87e+02 2.13e-03  1.45e+04     2s\n"
     ]
    },
    {
     "name": "stdout",
     "output_type": "stream",
     "text": [
      "  33   1.24353247e+11  1.23751369e+11  5.82e+02 1.41e-03  9.98e+03     2s\n"
     ]
    },
    {
     "name": "stderr",
     "output_type": "stream",
     "text": [
      "INFO:gurobipy:  33   1.24353247e+11  1.23751369e+11  5.82e+02 1.41e-03  9.98e+03     2s\n"
     ]
    },
    {
     "name": "stdout",
     "output_type": "stream",
     "text": [
      "  34   1.24287494e+11  1.23927728e+11  3.99e+02 6.83e-04  5.82e+03     2s\n"
     ]
    },
    {
     "name": "stderr",
     "output_type": "stream",
     "text": [
      "INFO:gurobipy:  34   1.24287494e+11  1.23927728e+11  3.99e+02 6.83e-04  5.82e+03     2s\n"
     ]
    },
    {
     "name": "stdout",
     "output_type": "stream",
     "text": [
      "  35   1.24248498e+11  1.23983960e+11  2.97e+02 4.80e-04  4.26e+03     2s\n"
     ]
    },
    {
     "name": "stderr",
     "output_type": "stream",
     "text": [
      "INFO:gurobipy:  35   1.24248498e+11  1.23983960e+11  2.97e+02 4.80e-04  4.26e+03     2s\n"
     ]
    },
    {
     "name": "stdout",
     "output_type": "stream",
     "text": [
      "  36   1.24234371e+11  1.24023510e+11  2.62e+02 3.40e-04  3.35e+03     2s\n"
     ]
    },
    {
     "name": "stderr",
     "output_type": "stream",
     "text": [
      "INFO:gurobipy:  36   1.24234371e+11  1.24023510e+11  2.62e+02 3.40e-04  3.35e+03     2s\n"
     ]
    },
    {
     "name": "stdout",
     "output_type": "stream",
     "text": [
      "  37   1.24183043e+11  1.24078803e+11  1.35e+02 1.41e-04  1.63e+03     2s\n"
     ]
    },
    {
     "name": "stderr",
     "output_type": "stream",
     "text": [
      "INFO:gurobipy:  37   1.24183043e+11  1.24078803e+11  1.35e+02 1.41e-04  1.63e+03     2s\n"
     ]
    },
    {
     "name": "stdout",
     "output_type": "stream",
     "text": [
      "  38   1.24142291e+11  1.24111912e+11  3.70e+01 3.09e-05  4.67e+02     2s\n"
     ]
    },
    {
     "name": "stderr",
     "output_type": "stream",
     "text": [
      "INFO:gurobipy:  38   1.24142291e+11  1.24111912e+11  3.70e+01 3.09e-05  4.67e+02     2s\n"
     ]
    },
    {
     "name": "stdout",
     "output_type": "stream",
     "text": [
      "  39   1.24131009e+11  1.24120412e+11  1.32e+01 8.70e-06  1.61e+02     2s\n"
     ]
    },
    {
     "name": "stderr",
     "output_type": "stream",
     "text": [
      "INFO:gurobipy:  39   1.24131009e+11  1.24120412e+11  1.32e+01 8.70e-06  1.61e+02     2s\n"
     ]
    },
    {
     "name": "stdout",
     "output_type": "stream",
     "text": [
      "  40   1.24126128e+11  1.24123242e+11  3.56e+00 1.92e-06  4.34e+01     2s\n"
     ]
    },
    {
     "name": "stderr",
     "output_type": "stream",
     "text": [
      "INFO:gurobipy:  40   1.24126128e+11  1.24123242e+11  3.56e+00 1.92e-06  4.34e+01     2s\n"
     ]
    },
    {
     "name": "stdout",
     "output_type": "stream",
     "text": [
      "  41   1.24124857e+11  1.24124140e+11  1.14e+00 1.32e-07  1.04e+01     2s\n"
     ]
    },
    {
     "name": "stderr",
     "output_type": "stream",
     "text": [
      "INFO:gurobipy:  41   1.24124857e+11  1.24124140e+11  1.14e+00 1.32e-07  1.04e+01     2s\n"
     ]
    },
    {
     "name": "stdout",
     "output_type": "stream",
     "text": [
      "  42   1.24124340e+11  1.24124237e+11  1.51e-01 1.47e-08  1.49e+00     2s\n"
     ]
    },
    {
     "name": "stderr",
     "output_type": "stream",
     "text": [
      "INFO:gurobipy:  42   1.24124340e+11  1.24124237e+11  1.51e-01 1.47e-08  1.49e+00     2s\n"
     ]
    },
    {
     "name": "stdout",
     "output_type": "stream",
     "text": [
      "  43   1.24124254e+11  1.24124251e+11  3.00e-03 2.84e-09  3.99e-02     2s\n"
     ]
    },
    {
     "name": "stderr",
     "output_type": "stream",
     "text": [
      "INFO:gurobipy:  43   1.24124254e+11  1.24124251e+11  3.00e-03 2.84e-09  3.99e-02     2s\n"
     ]
    },
    {
     "name": "stdout",
     "output_type": "stream",
     "text": [
      "  44   1.24124252e+11  1.24124252e+11  2.20e-06 1.97e-09  2.19e-06     2s\n"
     ]
    },
    {
     "name": "stderr",
     "output_type": "stream",
     "text": [
      "INFO:gurobipy:  44   1.24124252e+11  1.24124252e+11  2.20e-06 1.97e-09  2.19e-06     2s\n"
     ]
    },
    {
     "name": "stdout",
     "output_type": "stream",
     "text": [
      "  45   1.24124252e+11  1.24124252e+11  1.83e-06 9.31e-10  6.41e-12     2s\n"
     ]
    },
    {
     "name": "stderr",
     "output_type": "stream",
     "text": [
      "INFO:gurobipy:  45   1.24124252e+11  1.24124252e+11  1.83e-06 9.31e-10  6.41e-12     2s\n"
     ]
    },
    {
     "name": "stdout",
     "output_type": "stream",
     "text": [
      "\n"
     ]
    },
    {
     "name": "stderr",
     "output_type": "stream",
     "text": [
      "INFO:gurobipy:\n"
     ]
    },
    {
     "name": "stdout",
     "output_type": "stream",
     "text": [
      "Barrier solved model in 45 iterations and 2.41 seconds (0.82 work units)\n"
     ]
    },
    {
     "name": "stderr",
     "output_type": "stream",
     "text": [
      "INFO:gurobipy:Barrier solved model in 45 iterations and 2.41 seconds (0.82 work units)\n"
     ]
    },
    {
     "name": "stdout",
     "output_type": "stream",
     "text": [
      "Optimal objective 1.24124252e+11\n"
     ]
    },
    {
     "name": "stderr",
     "output_type": "stream",
     "text": [
      "INFO:gurobipy:Optimal objective 1.24124252e+11\n"
     ]
    },
    {
     "name": "stdout",
     "output_type": "stream",
     "text": [
      "\n"
     ]
    },
    {
     "name": "stderr",
     "output_type": "stream",
     "text": [
      "INFO:gurobipy:\n"
     ]
    },
    {
     "name": "stdout",
     "output_type": "stream",
     "text": [
      "Crossover log...\n"
     ]
    },
    {
     "name": "stderr",
     "output_type": "stream",
     "text": [
      "INFO:gurobipy:Crossover log...\n"
     ]
    },
    {
     "name": "stdout",
     "output_type": "stream",
     "text": [
      "\n"
     ]
    },
    {
     "name": "stderr",
     "output_type": "stream",
     "text": [
      "INFO:gurobipy:\n"
     ]
    },
    {
     "name": "stdout",
     "output_type": "stream",
     "text": [
      "   11013 DPushes remaining with DInf 0.0000000e+00                 2s\n"
     ]
    },
    {
     "name": "stderr",
     "output_type": "stream",
     "text": [
      "INFO:gurobipy:   11013 DPushes remaining with DInf 0.0000000e+00                 2s\n"
     ]
    },
    {
     "name": "stdout",
     "output_type": "stream",
     "text": [
      "       0 DPushes remaining with DInf 0.0000000e+00                 3s\n"
     ]
    },
    {
     "name": "stderr",
     "output_type": "stream",
     "text": [
      "INFO:gurobipy:       0 DPushes remaining with DInf 0.0000000e+00                 3s\n"
     ]
    },
    {
     "name": "stdout",
     "output_type": "stream",
     "text": [
      "Warning: Markowitz tolerance tightened to 0.5\n"
     ]
    },
    {
     "name": "stderr",
     "output_type": "stream",
     "text": [
      "INFO:gurobipy:Warning: Markowitz tolerance tightened to 0.5\n"
     ]
    },
    {
     "name": "stdout",
     "output_type": "stream",
     "text": [
      "\n"
     ]
    },
    {
     "name": "stderr",
     "output_type": "stream",
     "text": [
      "INFO:gurobipy:\n"
     ]
    },
    {
     "name": "stdout",
     "output_type": "stream",
     "text": [
      "    2128 PPushes remaining with PInf 0.0000000e+00                 3s\n"
     ]
    },
    {
     "name": "stderr",
     "output_type": "stream",
     "text": [
      "INFO:gurobipy:    2128 PPushes remaining with PInf 0.0000000e+00                 3s\n"
     ]
    },
    {
     "name": "stdout",
     "output_type": "stream",
     "text": [
      "       0 PPushes remaining with PInf 0.0000000e+00                 3s\n"
     ]
    },
    {
     "name": "stderr",
     "output_type": "stream",
     "text": [
      "INFO:gurobipy:       0 PPushes remaining with PInf 0.0000000e+00                 3s\n"
     ]
    },
    {
     "name": "stdout",
     "output_type": "stream",
     "text": [
      "\n"
     ]
    },
    {
     "name": "stderr",
     "output_type": "stream",
     "text": [
      "INFO:gurobipy:\n"
     ]
    },
    {
     "name": "stdout",
     "output_type": "stream",
     "text": [
      "  Push phase complete: Pinf 0.0000000e+00, Dinf 1.1973869e-09      3s\n"
     ]
    },
    {
     "name": "stderr",
     "output_type": "stream",
     "text": [
      "INFO:gurobipy:  Push phase complete: Pinf 0.0000000e+00, Dinf 1.1973869e-09      3s\n"
     ]
    },
    {
     "name": "stdout",
     "output_type": "stream",
     "text": [
      "\n"
     ]
    },
    {
     "name": "stderr",
     "output_type": "stream",
     "text": [
      "INFO:gurobipy:\n"
     ]
    },
    {
     "name": "stdout",
     "output_type": "stream",
     "text": [
      "\n"
     ]
    },
    {
     "name": "stderr",
     "output_type": "stream",
     "text": [
      "INFO:gurobipy:\n"
     ]
    },
    {
     "name": "stdout",
     "output_type": "stream",
     "text": [
      "Solved with barrier\n"
     ]
    },
    {
     "name": "stderr",
     "output_type": "stream",
     "text": [
      "INFO:gurobipy:Solved with barrier\n"
     ]
    },
    {
     "name": "stdout",
     "output_type": "stream",
     "text": [
      "Iteration    Objective       Primal Inf.    Dual Inf.      Time\n"
     ]
    },
    {
     "name": "stderr",
     "output_type": "stream",
     "text": [
      "INFO:gurobipy:Iteration    Objective       Primal Inf.    Dual Inf.      Time\n"
     ]
    },
    {
     "name": "stdout",
     "output_type": "stream",
     "text": [
      "    6738    1.2412425e+11   0.000000e+00   0.000000e+00      3s\n"
     ]
    },
    {
     "name": "stderr",
     "output_type": "stream",
     "text": [
      "INFO:gurobipy:    6738    1.2412425e+11   0.000000e+00   0.000000e+00      3s\n"
     ]
    },
    {
     "name": "stdout",
     "output_type": "stream",
     "text": [
      "\n"
     ]
    },
    {
     "name": "stderr",
     "output_type": "stream",
     "text": [
      "INFO:gurobipy:\n"
     ]
    },
    {
     "name": "stdout",
     "output_type": "stream",
     "text": [
      "Solved in 6738 iterations and 2.88 seconds (1.04 work units)\n"
     ]
    },
    {
     "name": "stderr",
     "output_type": "stream",
     "text": [
      "INFO:gurobipy:Solved in 6738 iterations and 2.88 seconds (1.04 work units)\n"
     ]
    },
    {
     "name": "stdout",
     "output_type": "stream",
     "text": [
      "Optimal objective  1.241242518e+11\n"
     ]
    },
    {
     "name": "stderr",
     "output_type": "stream",
     "text": [
      "INFO:gurobipy:Optimal objective  1.241242518e+11\n",
      "INFO:linopy.constants: Optimization successful: \n",
      "Status: ok\n",
      "Termination condition: optimal\n",
      "Solution: 43811 primals, 94181 duals\n",
      "Objective: 1.24e+11\n",
      "Solver model: available\n",
      "Solver message: 2\n",
      "\n",
      "INFO:pypsa.optimization.optimize:The shadow-prices of the constraints Generator-ext-p-lower, Generator-ext-p-upper, Link-fix-p-lower, Link-fix-p-upper, Link-ext-p-lower, Link-ext-p-upper, Store-fix-e-lower, Store-fix-e-upper, Store-ext-e-lower, Store-ext-e-upper, StorageUnit-ext-p_dispatch-lower, StorageUnit-ext-p_dispatch-upper, StorageUnit-ext-p_store-lower, StorageUnit-ext-p_store-upper, StorageUnit-ext-state_of_charge-lower, StorageUnit-ext-state_of_charge-upper, StorageUnit-energy_balance, Store-energy_balance were not assigned to the network.\n"
     ]
    },
    {
     "data": {
      "text/plain": [
       "('ok', 'optimal')"
      ]
     },
     "execution_count": 59,
     "metadata": {},
     "output_type": "execute_result"
    }
   ],
   "source": [
    "n.optimize(solver_name=\"gurobi\")"
   ]
  },
  {
   "cell_type": "code",
   "execution_count": 60,
   "id": "7637353e-7d81-4f5e-8998-013223cfac3f",
   "metadata": {},
   "outputs": [
    {
     "data": {
      "text/html": [
       "<div>\n",
       "<style scoped>\n",
       "    .dataframe tbody tr th:only-of-type {\n",
       "        vertical-align: middle;\n",
       "    }\n",
       "\n",
       "    .dataframe tbody tr th {\n",
       "        vertical-align: top;\n",
       "    }\n",
       "\n",
       "    .dataframe thead th {\n",
       "        text-align: right;\n",
       "    }\n",
       "</style>\n",
       "<table border=\"1\" class=\"dataframe\">\n",
       "  <thead>\n",
       "    <tr style=\"text-align: right;\">\n",
       "      <th></th>\n",
       "      <th></th>\n",
       "      <th>Optimal Capacity</th>\n",
       "      <th>Installed Capacity</th>\n",
       "      <th>Supply</th>\n",
       "      <th>Withdrawal</th>\n",
       "      <th>Energy Balance</th>\n",
       "      <th>Transmission</th>\n",
       "      <th>Capacity Factor</th>\n",
       "      <th>Curtailment</th>\n",
       "      <th>Capital Expenditure</th>\n",
       "      <th>Operational Expenditure</th>\n",
       "      <th>Revenue</th>\n",
       "      <th>Market Value</th>\n",
       "    </tr>\n",
       "  </thead>\n",
       "  <tbody>\n",
       "    <tr>\n",
       "      <th rowspan=\"3\" valign=\"top\">Generator</th>\n",
       "      <th>offwind</th>\n",
       "      <td>3.923220e+05</td>\n",
       "      <td>0.0</td>\n",
       "      <td>1.168683e+09</td>\n",
       "      <td>0.000000e+00</td>\n",
       "      <td>1.168683e+09</td>\n",
       "      <td>0.0</td>\n",
       "      <td>0.340056</td>\n",
       "      <td>7.813554e+07</td>\n",
       "      <td>6.203543e+10</td>\n",
       "      <td>2.337367e+07</td>\n",
       "      <td>6.205880e+10</td>\n",
       "      <td>53.101466</td>\n",
       "    </tr>\n",
       "    <tr>\n",
       "      <th>onwind</th>\n",
       "      <td>1.181401e+05</td>\n",
       "      <td>0.0</td>\n",
       "      <td>8.758224e+07</td>\n",
       "      <td>0.000000e+00</td>\n",
       "      <td>8.758224e+07</td>\n",
       "      <td>0.0</td>\n",
       "      <td>0.084628</td>\n",
       "      <td>1.253422e+08</td>\n",
       "      <td>1.135160e+10</td>\n",
       "      <td>1.182360e+08</td>\n",
       "      <td>1.146983e+10</td>\n",
       "      <td>130.960705</td>\n",
       "    </tr>\n",
       "    <tr>\n",
       "      <th>solar</th>\n",
       "      <td>3.153224e+05</td>\n",
       "      <td>0.0</td>\n",
       "      <td>3.430293e+08</td>\n",
       "      <td>0.000000e+00</td>\n",
       "      <td>3.430293e+08</td>\n",
       "      <td>0.0</td>\n",
       "      <td>0.124186</td>\n",
       "      <td>0.000000e+00</td>\n",
       "      <td>1.466530e+10</td>\n",
       "      <td>3.430293e+06</td>\n",
       "      <td>1.466873e+10</td>\n",
       "      <td>42.762315</td>\n",
       "    </tr>\n",
       "    <tr>\n",
       "      <th rowspan=\"7\" valign=\"top\">Link</th>\n",
       "      <th>CHP</th>\n",
       "      <td>1.051813e+05</td>\n",
       "      <td>0.0</td>\n",
       "      <td>4.922118e+07</td>\n",
       "      <td>6.152648e+07</td>\n",
       "      <td>-1.230530e+07</td>\n",
       "      <td>0.0</td>\n",
       "      <td>0.066776</td>\n",
       "      <td>0.000000e+00</td>\n",
       "      <td>4.207250e+09</td>\n",
       "      <td>0.000000e+00</td>\n",
       "      <td>4.207250e+09</td>\n",
       "      <td>85.476421</td>\n",
       "    </tr>\n",
       "    <tr>\n",
       "      <th>EV charger</th>\n",
       "      <td>4.400000e+05</td>\n",
       "      <td>440000.0</td>\n",
       "      <td>1.674277e+08</td>\n",
       "      <td>1.860308e+08</td>\n",
       "      <td>-1.860308e+07</td>\n",
       "      <td>0.0</td>\n",
       "      <td>0.048265</td>\n",
       "      <td>0.000000e+00</td>\n",
       "      <td>0.000000e+00</td>\n",
       "      <td>0.000000e+00</td>\n",
       "      <td>0.000000e+00</td>\n",
       "      <td>NaN</td>\n",
       "    </tr>\n",
       "    <tr>\n",
       "      <th>V2G</th>\n",
       "      <td>4.400000e+05</td>\n",
       "      <td>440000.0</td>\n",
       "      <td>3.883511e+07</td>\n",
       "      <td>4.315013e+07</td>\n",
       "      <td>-4.315013e+06</td>\n",
       "      <td>0.0</td>\n",
       "      <td>0.011195</td>\n",
       "      <td>0.000000e+00</td>\n",
       "      <td>0.000000e+00</td>\n",
       "      <td>0.000000e+00</td>\n",
       "      <td>0.000000e+00</td>\n",
       "      <td>NaN</td>\n",
       "    </tr>\n",
       "    <tr>\n",
       "      <th>electrolysis</th>\n",
       "      <td>4.821392e+05</td>\n",
       "      <td>0.0</td>\n",
       "      <td>5.315603e+08</td>\n",
       "      <td>7.593718e+08</td>\n",
       "      <td>-2.278115e+08</td>\n",
       "      <td>0.0</td>\n",
       "      <td>0.179795</td>\n",
       "      <td>0.000000e+00</td>\n",
       "      <td>0.000000e+00</td>\n",
       "      <td>0.000000e+00</td>\n",
       "      <td>0.000000e+00</td>\n",
       "      <td>NaN</td>\n",
       "    </tr>\n",
       "    <tr>\n",
       "      <th>heat pump</th>\n",
       "      <td>5.342745e+04</td>\n",
       "      <td>0.0</td>\n",
       "      <td>5.316634e+08</td>\n",
       "      <td>2.231793e+08</td>\n",
       "      <td>3.084841e+08</td>\n",
       "      <td>0.0</td>\n",
       "      <td>0.476854</td>\n",
       "      <td>0.000000e+00</td>\n",
       "      <td>1.602823e+10</td>\n",
       "      <td>0.000000e+00</td>\n",
       "      <td>1.602823e+10</td>\n",
       "      <td>30.147334</td>\n",
       "    </tr>\n",
       "    <tr>\n",
       "      <th>hydrogen</th>\n",
       "      <td>3.921370e+05</td>\n",
       "      <td>0.0</td>\n",
       "      <td>2.631726e+07</td>\n",
       "      <td>5.263452e+07</td>\n",
       "      <td>-2.631726e+07</td>\n",
       "      <td>0.0</td>\n",
       "      <td>0.015322</td>\n",
       "      <td>0.000000e+00</td>\n",
       "      <td>0.000000e+00</td>\n",
       "      <td>0.000000e+00</td>\n",
       "      <td>0.000000e+00</td>\n",
       "      <td>NaN</td>\n",
       "    </tr>\n",
       "    <tr>\n",
       "      <th>resistive heater</th>\n",
       "      <td>6.419137e+04</td>\n",
       "      <td>0.0</td>\n",
       "      <td>3.739524e+07</td>\n",
       "      <td>4.155027e+07</td>\n",
       "      <td>-4.155027e+06</td>\n",
       "      <td>0.0</td>\n",
       "      <td>0.073891</td>\n",
       "      <td>0.000000e+00</td>\n",
       "      <td>6.419137e+08</td>\n",
       "      <td>0.000000e+00</td>\n",
       "      <td>6.419137e+08</td>\n",
       "      <td>17.165653</td>\n",
       "    </tr>\n",
       "    <tr>\n",
       "      <th rowspan=\"4\" valign=\"top\">Load</th>\n",
       "      <th>-</th>\n",
       "      <td>0.000000e+00</td>\n",
       "      <td>0.0</td>\n",
       "      <td>0.000000e+00</td>\n",
       "      <td>4.789257e+08</td>\n",
       "      <td>-4.789257e+08</td>\n",
       "      <td>0.0</td>\n",
       "      <td>NaN</td>\n",
       "      <td>0.000000e+00</td>\n",
       "      <td>0.000000e+00</td>\n",
       "      <td>0.000000e+00</td>\n",
       "      <td>-3.416015e+10</td>\n",
       "      <td>NaN</td>\n",
       "    </tr>\n",
       "    <tr>\n",
       "      <th>EV demand</th>\n",
       "      <td>0.000000e+00</td>\n",
       "      <td>0.0</td>\n",
       "      <td>0.000000e+00</td>\n",
       "      <td>1.242776e+08</td>\n",
       "      <td>-1.242776e+08</td>\n",
       "      <td>0.0</td>\n",
       "      <td>NaN</td>\n",
       "      <td>0.000000e+00</td>\n",
       "      <td>0.000000e+00</td>\n",
       "      <td>0.000000e+00</td>\n",
       "      <td>-9.258023e+09</td>\n",
       "      <td>NaN</td>\n",
       "    </tr>\n",
       "    <tr>\n",
       "      <th>heat</th>\n",
       "      <td>0.000000e+00</td>\n",
       "      <td>0.0</td>\n",
       "      <td>0.000000e+00</td>\n",
       "      <td>5.936692e+08</td>\n",
       "      <td>-5.936692e+08</td>\n",
       "      <td>0.0</td>\n",
       "      <td>NaN</td>\n",
       "      <td>0.000000e+00</td>\n",
       "      <td>0.000000e+00</td>\n",
       "      <td>0.000000e+00</td>\n",
       "      <td>-5.112371e+10</td>\n",
       "      <td>NaN</td>\n",
       "    </tr>\n",
       "    <tr>\n",
       "      <th>hydrogen</th>\n",
       "      <td>0.000000e+00</td>\n",
       "      <td>0.0</td>\n",
       "      <td>0.000000e+00</td>\n",
       "      <td>4.789257e+08</td>\n",
       "      <td>-4.789257e+08</td>\n",
       "      <td>0.0</td>\n",
       "      <td>NaN</td>\n",
       "      <td>0.000000e+00</td>\n",
       "      <td>0.000000e+00</td>\n",
       "      <td>0.000000e+00</td>\n",
       "      <td>-3.187983e+10</td>\n",
       "      <td>NaN</td>\n",
       "    </tr>\n",
       "    <tr>\n",
       "      <th rowspan=\"3\" valign=\"top\">Store</th>\n",
       "      <th>EV battery</th>\n",
       "      <td>1.000000e+06</td>\n",
       "      <td>1000000.0</td>\n",
       "      <td>1.264210e+08</td>\n",
       "      <td>1.264210e+08</td>\n",
       "      <td>0.000000e+00</td>\n",
       "      <td>0.0</td>\n",
       "      <td>0.609953</td>\n",
       "      <td>0.000000e+00</td>\n",
       "      <td>0.000000e+00</td>\n",
       "      <td>0.000000e+00</td>\n",
       "      <td>2.297454e+09</td>\n",
       "      <td>18.173038</td>\n",
       "    </tr>\n",
       "    <tr>\n",
       "      <th>gas storage</th>\n",
       "      <td>1.000000e+08</td>\n",
       "      <td>100000000.0</td>\n",
       "      <td>6.152648e+07</td>\n",
       "      <td>0.000000e+00</td>\n",
       "      <td>6.152648e+07</td>\n",
       "      <td>0.0</td>\n",
       "      <td>0.508375</td>\n",
       "      <td>0.000000e+00</td>\n",
       "      <td>0.000000e+00</td>\n",
       "      <td>9.228972e+09</td>\n",
       "      <td>9.228972e+09</td>\n",
       "      <td>150.000000</td>\n",
       "    </tr>\n",
       "    <tr>\n",
       "      <th>hydrogen storage</th>\n",
       "      <td>4.157513e+07</td>\n",
       "      <td>0.0</td>\n",
       "      <td>3.040849e+08</td>\n",
       "      <td>3.040849e+08</td>\n",
       "      <td>0.000000e+00</td>\n",
       "      <td>0.0</td>\n",
       "      <td>0.395697</td>\n",
       "      <td>0.000000e+00</td>\n",
       "      <td>5.820518e+09</td>\n",
       "      <td>0.000000e+00</td>\n",
       "      <td>5.820518e+09</td>\n",
       "      <td>19.141096</td>\n",
       "    </tr>\n",
       "  </tbody>\n",
       "</table>\n",
       "</div>"
      ],
      "text/plain": [
       "                            Optimal Capacity  Installed Capacity  \\\n",
       "Generator offwind               3.923220e+05                 0.0   \n",
       "          onwind                1.181401e+05                 0.0   \n",
       "          solar                 3.153224e+05                 0.0   \n",
       "Link      CHP                   1.051813e+05                 0.0   \n",
       "          EV charger            4.400000e+05            440000.0   \n",
       "          V2G                   4.400000e+05            440000.0   \n",
       "          electrolysis          4.821392e+05                 0.0   \n",
       "          heat pump             5.342745e+04                 0.0   \n",
       "          hydrogen              3.921370e+05                 0.0   \n",
       "          resistive heater      6.419137e+04                 0.0   \n",
       "Load      -                     0.000000e+00                 0.0   \n",
       "          EV demand             0.000000e+00                 0.0   \n",
       "          heat                  0.000000e+00                 0.0   \n",
       "          hydrogen              0.000000e+00                 0.0   \n",
       "Store     EV battery            1.000000e+06           1000000.0   \n",
       "          gas storage           1.000000e+08         100000000.0   \n",
       "          hydrogen storage      4.157513e+07                 0.0   \n",
       "\n",
       "                                  Supply    Withdrawal  Energy Balance  \\\n",
       "Generator offwind           1.168683e+09  0.000000e+00    1.168683e+09   \n",
       "          onwind            8.758224e+07  0.000000e+00    8.758224e+07   \n",
       "          solar             3.430293e+08  0.000000e+00    3.430293e+08   \n",
       "Link      CHP               4.922118e+07  6.152648e+07   -1.230530e+07   \n",
       "          EV charger        1.674277e+08  1.860308e+08   -1.860308e+07   \n",
       "          V2G               3.883511e+07  4.315013e+07   -4.315013e+06   \n",
       "          electrolysis      5.315603e+08  7.593718e+08   -2.278115e+08   \n",
       "          heat pump         5.316634e+08  2.231793e+08    3.084841e+08   \n",
       "          hydrogen          2.631726e+07  5.263452e+07   -2.631726e+07   \n",
       "          resistive heater  3.739524e+07  4.155027e+07   -4.155027e+06   \n",
       "Load      -                 0.000000e+00  4.789257e+08   -4.789257e+08   \n",
       "          EV demand         0.000000e+00  1.242776e+08   -1.242776e+08   \n",
       "          heat              0.000000e+00  5.936692e+08   -5.936692e+08   \n",
       "          hydrogen          0.000000e+00  4.789257e+08   -4.789257e+08   \n",
       "Store     EV battery        1.264210e+08  1.264210e+08    0.000000e+00   \n",
       "          gas storage       6.152648e+07  0.000000e+00    6.152648e+07   \n",
       "          hydrogen storage  3.040849e+08  3.040849e+08    0.000000e+00   \n",
       "\n",
       "                            Transmission  Capacity Factor   Curtailment  \\\n",
       "Generator offwind                    0.0         0.340056  7.813554e+07   \n",
       "          onwind                     0.0         0.084628  1.253422e+08   \n",
       "          solar                      0.0         0.124186  0.000000e+00   \n",
       "Link      CHP                        0.0         0.066776  0.000000e+00   \n",
       "          EV charger                 0.0         0.048265  0.000000e+00   \n",
       "          V2G                        0.0         0.011195  0.000000e+00   \n",
       "          electrolysis               0.0         0.179795  0.000000e+00   \n",
       "          heat pump                  0.0         0.476854  0.000000e+00   \n",
       "          hydrogen                   0.0         0.015322  0.000000e+00   \n",
       "          resistive heater           0.0         0.073891  0.000000e+00   \n",
       "Load      -                          0.0              NaN  0.000000e+00   \n",
       "          EV demand                  0.0              NaN  0.000000e+00   \n",
       "          heat                       0.0              NaN  0.000000e+00   \n",
       "          hydrogen                   0.0              NaN  0.000000e+00   \n",
       "Store     EV battery                 0.0         0.609953  0.000000e+00   \n",
       "          gas storage                0.0         0.508375  0.000000e+00   \n",
       "          hydrogen storage           0.0         0.395697  0.000000e+00   \n",
       "\n",
       "                            Capital Expenditure  Operational Expenditure  \\\n",
       "Generator offwind                  6.203543e+10             2.337367e+07   \n",
       "          onwind                   1.135160e+10             1.182360e+08   \n",
       "          solar                    1.466530e+10             3.430293e+06   \n",
       "Link      CHP                      4.207250e+09             0.000000e+00   \n",
       "          EV charger               0.000000e+00             0.000000e+00   \n",
       "          V2G                      0.000000e+00             0.000000e+00   \n",
       "          electrolysis             0.000000e+00             0.000000e+00   \n",
       "          heat pump                1.602823e+10             0.000000e+00   \n",
       "          hydrogen                 0.000000e+00             0.000000e+00   \n",
       "          resistive heater         6.419137e+08             0.000000e+00   \n",
       "Load      -                        0.000000e+00             0.000000e+00   \n",
       "          EV demand                0.000000e+00             0.000000e+00   \n",
       "          heat                     0.000000e+00             0.000000e+00   \n",
       "          hydrogen                 0.000000e+00             0.000000e+00   \n",
       "Store     EV battery               0.000000e+00             0.000000e+00   \n",
       "          gas storage              0.000000e+00             9.228972e+09   \n",
       "          hydrogen storage         5.820518e+09             0.000000e+00   \n",
       "\n",
       "                                 Revenue  Market Value  \n",
       "Generator offwind           6.205880e+10     53.101466  \n",
       "          onwind            1.146983e+10    130.960705  \n",
       "          solar             1.466873e+10     42.762315  \n",
       "Link      CHP               4.207250e+09     85.476421  \n",
       "          EV charger        0.000000e+00           NaN  \n",
       "          V2G               0.000000e+00           NaN  \n",
       "          electrolysis      0.000000e+00           NaN  \n",
       "          heat pump         1.602823e+10     30.147334  \n",
       "          hydrogen          0.000000e+00           NaN  \n",
       "          resistive heater  6.419137e+08     17.165653  \n",
       "Load      -                -3.416015e+10           NaN  \n",
       "          EV demand        -9.258023e+09           NaN  \n",
       "          heat             -5.112371e+10           NaN  \n",
       "          hydrogen         -3.187983e+10           NaN  \n",
       "Store     EV battery        2.297454e+09     18.173038  \n",
       "          gas storage       9.228972e+09    150.000000  \n",
       "          hydrogen storage  5.820518e+09     19.141096  "
      ]
     },
     "execution_count": 60,
     "metadata": {},
     "output_type": "execute_result"
    }
   ],
   "source": [
    "n.statistics()"
   ]
  },
  {
   "cell_type": "code",
   "execution_count": 61,
   "id": "3bd740c0-dcbb-48b5-b4c8-f7d3e95c3885",
   "metadata": {},
   "outputs": [
    {
     "data": {
      "text/plain": [
       "<Axes: ylabel='bn€/a'>"
      ]
     },
     "execution_count": 61,
     "metadata": {},
     "output_type": "execute_result"
    },
    {
     "data": {
      "image/png": "[encoded data removed]",
      "text/plain": [
       "<Figure size 700x300 with 1 Axes>"
      ]
     },
     "metadata": {},
     "output_type": "display_data"
    }
   ],
   "source": [
    "n.statistics()[\"Capital Expenditure\"].div(1e9).sort_values().dropna().plot.bar(\n",
    "    ylabel=\"bn€/a\", cmap=\"tab20c\", figsize=(7, 3)\n",
    ")"
   ]
  },
  {
   "cell_type": "code",
   "execution_count": null,
   "id": "e769f194-60d0-40b3-9b50-d0e8d8518951",
   "metadata": {},
   "outputs": [],
   "source": []
  }
 ],
 "metadata": {
  "kernelspec": {
   "display_name": "Python 3 (ipykernel)",
   "language": "python",
   "name": "python3"
  },
  "language_info": {
   "codemirror_mode": {
    "name": "ipython",
    "version": 3
   },
   "file_extension": ".py",
   "mimetype": "text/x-python",
   "name": "python",
   "nbconvert_exporter": "python",
   "pygments_lexer": "ipython3",
   "version": "3.12.11"
  }
 },
 "nbformat": 4,
 "nbformat_minor": 5
}
