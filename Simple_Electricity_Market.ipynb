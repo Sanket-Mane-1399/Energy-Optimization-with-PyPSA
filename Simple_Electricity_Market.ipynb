{
 "cells": [
  {
   "cell_type": "markdown",
   "id": "14e4d840-73c4-4abf-a9ea-56f1503a071a",
   "metadata": {},
   "source": [
    "# Simple electricity market example"
   ]
  },
  {
   "cell_type": "markdown",
   "id": "21fda922-d29b-4730-8f12-6e9e04c51943",
   "metadata": {},
   "source": [
    "## From structured data to optimisation\n",
    "\n",
    "The design principle of PyPSA is that basically each component is associated with a set of variables and constraints that will be added to the optimisation model based on the input data stored for the components. \n",
    "\n",
    "For an *hourly* electricity market simulation, PyPSA will solve an optimisation problem that looks like this\n",
    "\n",
    "\\begin{equation}\n",
    "\\min_{g_{i,s,t}; f_{\\ell,t}; g_{i,r,t,\\text{charge}}; g_{i,r,t,\\text{discharge}}; e_{i,r,t}} \\sum_s o_{s} g_{i,s,t}\n",
    "\\end{equation}\n",
    "such that\n",
    "\\begin{align}\n",
    "0 & \\leq g_{i,s,t} \\leq \\hat{g}_{i,s,t} G_{i,s}  & \\text{generation limits : generator} \\\\\n",
    "-F_\\ell &\\leq f_{\\ell,t} \\leq F_\\ell & \\text{transmission limits : line}  \\\\\n",
    "d_{i,t} &= \\sum_s g_{i,s,t} + \\sum_r g_{i,r,t,\\text{discharge}} - \\sum_r g_{i,r,t,\\text{charge}} - \\sum_\\ell K_{i\\ell} f_{\\ell,t} & \\text{KCL : bus} \\\\\n",
    " 0 &=\\sum_\\ell C_{\\ell c} x_\\ell f_{\\ell,t} & \\text{KVL : cycles} \\\\\n",
    "0 & \\leq g_{i,r,t,\\text{discharge}} \\leq G_{i,r,\\text{discharge}}& \\text{discharge limits : storage unit} \\\\\n",
    "    0 & \\leq g_{i,r,t,\\text{charge}} \\leq G_{i,r,\\text{charge}} & \\text{charge limits : storage unit} \\\\\n",
    "    0 & \\leq e_{i,r,t} \\leq E_{i,r} & \\text{energy limits : storage unit} \\\\ \n",
    "    e_{i,r,t} &= \\eta^0_{i,r,t} e_{i,r,t-1} + \\eta^1_{i,r,t}g_{i,r,t,\\text{charge}} -  \\frac{1}{\\eta^2_{i,r,t}} g_{i,r,t,\\text{discharge}} & \\text{consistency : storage unit} \\\\\n",
    "    e_{i,r,0} & = e_{i,r,|T|-1}  & \\text{cyclicity : storage unit}\n",
    "\\end{align}\n",
    "\n",
    "**Decision variables:**\n",
    "\n",
    "- $g_{i,s,t}$ is the generator dispatch at bus $i$, technology $s$, time step $t$,\n",
    "- $f_{\\ell,t}$ is the power flow in line $\\ell$,\n",
    "- $g_{i,r,t,\\text{dis-/charge}}$ denotes the charge and discharge of storage unit $r$ at bus $i$ and time step $t$,\n",
    "- $e_{i,r,t}$ is the state of charge of storage $r$ at bus $i$ and time step $t$.\n",
    "\n",
    "**Parameters:**\n",
    "\n",
    "- $o_{i,s}$ is the marginal generation cost of technology $s$ at bus $i$,\n",
    "- $x_\\ell$ is the reactance of transmission line $\\ell$,\n",
    "- $K_{i\\ell}$ is the incidence matrix,\n",
    "- $C_{\\ell c}$ is the cycle matrix,\n",
    "- $G_{i,s}$ is the nominal capacity of the generator of technology $s$ at bus $i$,\n",
    "- $F_{\\ell}$ is the rating of the transmission line $\\ell$,\n",
    "- $E_{i,r}$ is the energy capacity of storage $r$ at bus $i$,\n",
    "- $\\eta^{0/1/2}_{i,r,t}$ denote the standing (0), charging (1), and discharging (2) efficiencies.\n",
    "\n",
    ":::{note}\n",
    "For a full reference to the optimisation problem description, see https://pypsa.readthedocs.io/en/latest/optimal_power_flow.html\n",
    ":::"
   ]
  },
  {
   "cell_type": "code",
   "execution_count": 1,
   "id": "a71af9f8-51b3-4f31-bfe8-cbdc482d5767",
   "metadata": {},
   "outputs": [],
   "source": [
    "fuel_cost = dict(\n",
    "    coal=8,\n",
    "    gas=100,\n",
    "    oil=48,\n",
    ")"
   ]
  },
  {
   "cell_type": "code",
   "execution_count": 2,
   "id": "3393d4e7-5290-4130-874c-3556fb4544ef",
   "metadata": {},
   "outputs": [],
   "source": [
    "efficiency = dict(\n",
    "    coal=0.33,\n",
    "    gas=0.58,\n",
    "    oil=0.35,\n",
    ")"
   ]
  },
  {
   "cell_type": "code",
   "execution_count": 3,
   "id": "89d2be54-f28a-4843-9fc8-17b3520063b9",
   "metadata": {},
   "outputs": [],
   "source": [
    "# t/MWh thermal\n",
    "emissions = dict(\n",
    "    coal=0.34,\n",
    "    gas=0.2,\n",
    "    oil=0.26,\n",
    "    hydro=0,\n",
    "    wind=0,\n",
    ")"
   ]
  },
  {
   "cell_type": "code",
   "execution_count": 4,
   "id": "db9747f1-ca00-49b2-95dd-dd7333a9da5f",
   "metadata": {},
   "outputs": [],
   "source": [
    "power_plants = {\n",
    "    \"SA\": {\"coal\": 35000, \"wind\": 3000, \"gas\": 8000, \"oil\": 2000},\n",
    "    \"MZ\": {\"hydro\": 1200},\n",
    "}"
   ]
  },
  {
   "cell_type": "code",
   "execution_count": 5,
   "id": "dd048ff0-94ce-49e5-9fac-a484aee52dc5",
   "metadata": {},
   "outputs": [],
   "source": [
    "loads = {\n",
    "    \"SA\": 42000,\n",
    "    \"MZ\": 650,\n",
    "}"
   ]
  },
  {
   "cell_type": "code",
   "execution_count": 6,
   "id": "6f7f28a1-4331-46e5-8130-f24d3a357e56",
   "metadata": {},
   "outputs": [],
   "source": [
    "import pypsa\n",
    "n = pypsa.Network()"
   ]
  },
  {
   "cell_type": "code",
   "execution_count": 7,
   "id": "209aacc5-bc96-499f-a01d-bd2e04f98a44",
   "metadata": {},
   "outputs": [
    {
     "data": {
      "text/plain": [
       "Index(['MZ'], dtype='object')"
      ]
     },
     "execution_count": 7,
     "metadata": {},
     "output_type": "execute_result"
    }
   ],
   "source": [
    "n.add(\"Bus\", \"SA\", y=-30.5, x=25, v_nom=400, carrier=\"AC\")\n",
    "n.add(\"Bus\", \"MZ\", y=-18.5, x=35.5, v_nom=400, carrier=\"AC\")"
   ]
  },
  {
   "cell_type": "code",
   "execution_count": 8,
   "id": "4d24c56c-b724-4063-9ff5-aeefee05593e",
   "metadata": {},
   "outputs": [
    {
     "data": {
      "text/html": [
       "<div>\n",
       "<style scoped>\n",
       "    .dataframe tbody tr th:only-of-type {\n",
       "        vertical-align: middle;\n",
       "    }\n",
       "\n",
       "    .dataframe tbody tr th {\n",
       "        vertical-align: top;\n",
       "    }\n",
       "\n",
       "    .dataframe thead th {\n",
       "        text-align: right;\n",
       "    }\n",
       "</style>\n",
       "<table border=\"1\" class=\"dataframe\">\n",
       "  <thead>\n",
       "    <tr style=\"text-align: right;\">\n",
       "      <th></th>\n",
       "      <th>v_nom</th>\n",
       "      <th>type</th>\n",
       "      <th>x</th>\n",
       "      <th>y</th>\n",
       "      <th>carrier</th>\n",
       "      <th>unit</th>\n",
       "      <th>v_mag_pu_set</th>\n",
       "      <th>v_mag_pu_min</th>\n",
       "      <th>v_mag_pu_max</th>\n",
       "      <th>control</th>\n",
       "      <th>generator</th>\n",
       "      <th>sub_network</th>\n",
       "    </tr>\n",
       "    <tr>\n",
       "      <th>Bus</th>\n",
       "      <th></th>\n",
       "      <th></th>\n",
       "      <th></th>\n",
       "      <th></th>\n",
       "      <th></th>\n",
       "      <th></th>\n",
       "      <th></th>\n",
       "      <th></th>\n",
       "      <th></th>\n",
       "      <th></th>\n",
       "      <th></th>\n",
       "      <th></th>\n",
       "    </tr>\n",
       "  </thead>\n",
       "  <tbody>\n",
       "    <tr>\n",
       "      <th>SA</th>\n",
       "      <td>400.0</td>\n",
       "      <td></td>\n",
       "      <td>25.0</td>\n",
       "      <td>-30.5</td>\n",
       "      <td>AC</td>\n",
       "      <td></td>\n",
       "      <td>1.0</td>\n",
       "      <td>0.0</td>\n",
       "      <td>inf</td>\n",
       "      <td>PQ</td>\n",
       "      <td></td>\n",
       "      <td></td>\n",
       "    </tr>\n",
       "    <tr>\n",
       "      <th>MZ</th>\n",
       "      <td>400.0</td>\n",
       "      <td></td>\n",
       "      <td>35.5</td>\n",
       "      <td>-18.5</td>\n",
       "      <td>AC</td>\n",
       "      <td></td>\n",
       "      <td>1.0</td>\n",
       "      <td>0.0</td>\n",
       "      <td>inf</td>\n",
       "      <td>PQ</td>\n",
       "      <td></td>\n",
       "      <td></td>\n",
       "    </tr>\n",
       "  </tbody>\n",
       "</table>\n",
       "</div>"
      ],
      "text/plain": [
       "     v_nom type     x     y carrier unit  v_mag_pu_set  v_mag_pu_min  \\\n",
       "Bus                                                                    \n",
       "SA   400.0       25.0 -30.5      AC                1.0           0.0   \n",
       "MZ   400.0       35.5 -18.5      AC                1.0           0.0   \n",
       "\n",
       "     v_mag_pu_max control generator sub_network  \n",
       "Bus                                              \n",
       "SA            inf      PQ                        \n",
       "MZ            inf      PQ                        "
      ]
     },
     "execution_count": 8,
     "metadata": {},
     "output_type": "execute_result"
    }
   ],
   "source": [
    "n.buses"
   ]
  },
  {
   "cell_type": "code",
   "execution_count": 9,
   "id": "d40dbff3-6a3e-4b43-a682-238fd736348a",
   "metadata": {},
   "outputs": [
    {
     "name": "stderr",
     "output_type": "stream",
     "text": [
      "C:\\Users\\MS\\AppData\\Local\\Temp\\ipykernel_7600\\2692078413.py:1: DeprecatedWarning:\n",
      "\n",
      "madd is deprecated as of 0.31 and will be removed in 1.0. Use `n.add` as a drop-in replacement instead.\n",
      "\n"
     ]
    },
    {
     "data": {
      "text/plain": [
       "Index(['coal', 'gas', 'oil', 'hydro', 'wind'], dtype='object')"
      ]
     },
     "execution_count": 9,
     "metadata": {},
     "output_type": "execute_result"
    }
   ],
   "source": [
    "n.madd(\n",
    "    \"Carrier\",\n",
    "    [\"coal\", \"gas\", \"oil\", \"hydro\", \"wind\"],\n",
    "    co2_emissions=emissions,\n",
    "    nice_name=[\"Coal\", \"Gas\", \"Oil\", \"Hydro\", \"Onshore Wind\"],\n",
    "    color=[\"grey\", \"indianred\", \"black\", \"aquamarine\", \"dodgerblue\"],\n",
    ")"
   ]
  },
  {
   "cell_type": "code",
   "execution_count": 10,
   "id": "aeea4ae2-833d-46b9-a954-0b097396e5cd",
   "metadata": {},
   "outputs": [
    {
     "data": {
      "text/plain": [
       "Index(['MZ hydro'], dtype='object')"
      ]
     },
     "execution_count": 10,
     "metadata": {},
     "output_type": "execute_result"
    }
   ],
   "source": [
    "n.add(\n",
    "    \"Generator\",\n",
    "    \"MZ hydro\",\n",
    "    bus=\"MZ\",\n",
    "    carrier=\"hydro\",\n",
    "    p_nom=1200,  # MW\n",
    "    marginal_cost=0,  # default\n",
    ")"
   ]
  },
  {
   "cell_type": "code",
   "execution_count": 11,
   "id": "e93f583a-68ef-4705-84cf-463865e50c84",
   "metadata": {},
   "outputs": [],
   "source": [
    "for tech, p_nom in power_plants[\"SA\"].items():\n",
    "    n.add(\n",
    "        \"Generator\",\n",
    "        f\"SA {tech}\",\n",
    "        bus= \"SA\",\n",
    "        carrier=tech,\n",
    "        efficiency = efficiency.get(tech,1),\n",
    "        p_nom = p_nom,\n",
    "        marginal_cost=fuel_cost.get(tech, 0) / efficiency.get(tech, 1),\n",
    "    )"
   ]
  },
  {
   "cell_type": "code",
   "execution_count": 12,
   "id": "3def3692-d31d-483f-8205-91890c5708e2",
   "metadata": {},
   "outputs": [
    {
     "data": {
      "text/html": [
       "<div>\n",
       "<style scoped>\n",
       "    .dataframe tbody tr th:only-of-type {\n",
       "        vertical-align: middle;\n",
       "    }\n",
       "\n",
       "    .dataframe tbody tr th {\n",
       "        vertical-align: top;\n",
       "    }\n",
       "\n",
       "    .dataframe thead th {\n",
       "        text-align: right;\n",
       "    }\n",
       "</style>\n",
       "<table border=\"1\" class=\"dataframe\">\n",
       "  <thead>\n",
       "    <tr style=\"text-align: right;\">\n",
       "      <th></th>\n",
       "      <th>bus</th>\n",
       "      <th>control</th>\n",
       "      <th>type</th>\n",
       "      <th>p_nom</th>\n",
       "      <th>p_nom_mod</th>\n",
       "      <th>p_nom_extendable</th>\n",
       "      <th>p_nom_min</th>\n",
       "      <th>p_nom_max</th>\n",
       "      <th>p_min_pu</th>\n",
       "      <th>p_max_pu</th>\n",
       "      <th>...</th>\n",
       "      <th>min_up_time</th>\n",
       "      <th>min_down_time</th>\n",
       "      <th>up_time_before</th>\n",
       "      <th>down_time_before</th>\n",
       "      <th>ramp_limit_up</th>\n",
       "      <th>ramp_limit_down</th>\n",
       "      <th>ramp_limit_start_up</th>\n",
       "      <th>ramp_limit_shut_down</th>\n",
       "      <th>weight</th>\n",
       "      <th>p_nom_opt</th>\n",
       "    </tr>\n",
       "    <tr>\n",
       "      <th>Generator</th>\n",
       "      <th></th>\n",
       "      <th></th>\n",
       "      <th></th>\n",
       "      <th></th>\n",
       "      <th></th>\n",
       "      <th></th>\n",
       "      <th></th>\n",
       "      <th></th>\n",
       "      <th></th>\n",
       "      <th></th>\n",
       "      <th></th>\n",
       "      <th></th>\n",
       "      <th></th>\n",
       "      <th></th>\n",
       "      <th></th>\n",
       "      <th></th>\n",
       "      <th></th>\n",
       "      <th></th>\n",
       "      <th></th>\n",
       "      <th></th>\n",
       "      <th></th>\n",
       "    </tr>\n",
       "  </thead>\n",
       "  <tbody>\n",
       "    <tr>\n",
       "      <th>MZ hydro</th>\n",
       "      <td>MZ</td>\n",
       "      <td>PQ</td>\n",
       "      <td></td>\n",
       "      <td>1200.0</td>\n",
       "      <td>0.0</td>\n",
       "      <td>False</td>\n",
       "      <td>0.0</td>\n",
       "      <td>inf</td>\n",
       "      <td>0.0</td>\n",
       "      <td>1.0</td>\n",
       "      <td>...</td>\n",
       "      <td>0</td>\n",
       "      <td>0</td>\n",
       "      <td>1</td>\n",
       "      <td>0</td>\n",
       "      <td>NaN</td>\n",
       "      <td>NaN</td>\n",
       "      <td>1.0</td>\n",
       "      <td>1.0</td>\n",
       "      <td>1.0</td>\n",
       "      <td>0.0</td>\n",
       "    </tr>\n",
       "    <tr>\n",
       "      <th>SA coal</th>\n",
       "      <td>SA</td>\n",
       "      <td>PQ</td>\n",
       "      <td></td>\n",
       "      <td>35000.0</td>\n",
       "      <td>0.0</td>\n",
       "      <td>False</td>\n",
       "      <td>0.0</td>\n",
       "      <td>inf</td>\n",
       "      <td>0.0</td>\n",
       "      <td>1.0</td>\n",
       "      <td>...</td>\n",
       "      <td>0</td>\n",
       "      <td>0</td>\n",
       "      <td>1</td>\n",
       "      <td>0</td>\n",
       "      <td>NaN</td>\n",
       "      <td>NaN</td>\n",
       "      <td>1.0</td>\n",
       "      <td>1.0</td>\n",
       "      <td>1.0</td>\n",
       "      <td>0.0</td>\n",
       "    </tr>\n",
       "    <tr>\n",
       "      <th>SA wind</th>\n",
       "      <td>SA</td>\n",
       "      <td>PQ</td>\n",
       "      <td></td>\n",
       "      <td>3000.0</td>\n",
       "      <td>0.0</td>\n",
       "      <td>False</td>\n",
       "      <td>0.0</td>\n",
       "      <td>inf</td>\n",
       "      <td>0.0</td>\n",
       "      <td>1.0</td>\n",
       "      <td>...</td>\n",
       "      <td>0</td>\n",
       "      <td>0</td>\n",
       "      <td>1</td>\n",
       "      <td>0</td>\n",
       "      <td>NaN</td>\n",
       "      <td>NaN</td>\n",
       "      <td>1.0</td>\n",
       "      <td>1.0</td>\n",
       "      <td>1.0</td>\n",
       "      <td>0.0</td>\n",
       "    </tr>\n",
       "    <tr>\n",
       "      <th>SA gas</th>\n",
       "      <td>SA</td>\n",
       "      <td>PQ</td>\n",
       "      <td></td>\n",
       "      <td>8000.0</td>\n",
       "      <td>0.0</td>\n",
       "      <td>False</td>\n",
       "      <td>0.0</td>\n",
       "      <td>inf</td>\n",
       "      <td>0.0</td>\n",
       "      <td>1.0</td>\n",
       "      <td>...</td>\n",
       "      <td>0</td>\n",
       "      <td>0</td>\n",
       "      <td>1</td>\n",
       "      <td>0</td>\n",
       "      <td>NaN</td>\n",
       "      <td>NaN</td>\n",
       "      <td>1.0</td>\n",
       "      <td>1.0</td>\n",
       "      <td>1.0</td>\n",
       "      <td>0.0</td>\n",
       "    </tr>\n",
       "    <tr>\n",
       "      <th>SA oil</th>\n",
       "      <td>SA</td>\n",
       "      <td>PQ</td>\n",
       "      <td></td>\n",
       "      <td>2000.0</td>\n",
       "      <td>0.0</td>\n",
       "      <td>False</td>\n",
       "      <td>0.0</td>\n",
       "      <td>inf</td>\n",
       "      <td>0.0</td>\n",
       "      <td>1.0</td>\n",
       "      <td>...</td>\n",
       "      <td>0</td>\n",
       "      <td>0</td>\n",
       "      <td>1</td>\n",
       "      <td>0</td>\n",
       "      <td>NaN</td>\n",
       "      <td>NaN</td>\n",
       "      <td>1.0</td>\n",
       "      <td>1.0</td>\n",
       "      <td>1.0</td>\n",
       "      <td>0.0</td>\n",
       "    </tr>\n",
       "  </tbody>\n",
       "</table>\n",
       "<p>5 rows × 37 columns</p>\n",
       "</div>"
      ],
      "text/plain": [
       "          bus control type    p_nom  p_nom_mod  p_nom_extendable  p_nom_min  \\\n",
       "Generator                                                                     \n",
       "MZ hydro   MZ      PQ        1200.0        0.0             False        0.0   \n",
       "SA coal    SA      PQ       35000.0        0.0             False        0.0   \n",
       "SA wind    SA      PQ        3000.0        0.0             False        0.0   \n",
       "SA gas     SA      PQ        8000.0        0.0             False        0.0   \n",
       "SA oil     SA      PQ        2000.0        0.0             False        0.0   \n",
       "\n",
       "           p_nom_max  p_min_pu  p_max_pu  ...  min_up_time  min_down_time  \\\n",
       "Generator                                 ...                               \n",
       "MZ hydro         inf       0.0       1.0  ...            0              0   \n",
       "SA coal          inf       0.0       1.0  ...            0              0   \n",
       "SA wind          inf       0.0       1.0  ...            0              0   \n",
       "SA gas           inf       0.0       1.0  ...            0              0   \n",
       "SA oil           inf       0.0       1.0  ...            0              0   \n",
       "\n",
       "           up_time_before  down_time_before  ramp_limit_up ramp_limit_down  \\\n",
       "Generator                                                                    \n",
       "MZ hydro                1                 0            NaN             NaN   \n",
       "SA coal                 1                 0            NaN             NaN   \n",
       "SA wind                 1                 0            NaN             NaN   \n",
       "SA gas                  1                 0            NaN             NaN   \n",
       "SA oil                  1                 0            NaN             NaN   \n",
       "\n",
       "           ramp_limit_start_up  ramp_limit_shut_down  weight  p_nom_opt  \n",
       "Generator                                                                \n",
       "MZ hydro                   1.0                   1.0     1.0        0.0  \n",
       "SA coal                    1.0                   1.0     1.0        0.0  \n",
       "SA wind                    1.0                   1.0     1.0        0.0  \n",
       "SA gas                     1.0                   1.0     1.0        0.0  \n",
       "SA oil                     1.0                   1.0     1.0        0.0  \n",
       "\n",
       "[5 rows x 37 columns]"
      ]
     },
     "execution_count": 12,
     "metadata": {},
     "output_type": "execute_result"
    }
   ],
   "source": [
    "n.generators"
   ]
  },
  {
   "cell_type": "code",
   "execution_count": 13,
   "id": "700a9ebf-d82b-4f4b-a508-99e71ea50451",
   "metadata": {},
   "outputs": [
    {
     "data": {
      "text/plain": [
       "Index(['SA electricity demand'], dtype='object')"
      ]
     },
     "execution_count": 13,
     "metadata": {},
     "output_type": "execute_result"
    }
   ],
   "source": [
    "n.add(\n",
    "    \"Load\",\n",
    "    \"SA electricity demand\",\n",
    "    bus=\"SA\",\n",
    "    p_set=loads[\"SA\"],\n",
    "    carrier=\"electricity\",\n",
    ")"
   ]
  },
  {
   "cell_type": "code",
   "execution_count": 14,
   "id": "9b116946-229a-4d43-bcc0-b8372b0a226f",
   "metadata": {},
   "outputs": [
    {
     "data": {
      "text/plain": [
       "Index(['MZ electricity demand'], dtype='object')"
      ]
     },
     "execution_count": 14,
     "metadata": {},
     "output_type": "execute_result"
    }
   ],
   "source": [
    "n.add(\n",
    "    \"Load\",\n",
    "    \"MZ electricity demand\",\n",
    "    bus=\"MZ\",\n",
    "    p_set=loads[\"MZ\"],\n",
    "    carrier=\"electricity\",\n",
    ")"
   ]
  },
  {
   "cell_type": "code",
   "execution_count": 15,
   "id": "e07d0510-f6ec-45aa-8b07-75fe432e2b9d",
   "metadata": {},
   "outputs": [
    {
     "data": {
      "text/html": [
       "<div>\n",
       "<style scoped>\n",
       "    .dataframe tbody tr th:only-of-type {\n",
       "        vertical-align: middle;\n",
       "    }\n",
       "\n",
       "    .dataframe tbody tr th {\n",
       "        vertical-align: top;\n",
       "    }\n",
       "\n",
       "    .dataframe thead th {\n",
       "        text-align: right;\n",
       "    }\n",
       "</style>\n",
       "<table border=\"1\" class=\"dataframe\">\n",
       "  <thead>\n",
       "    <tr style=\"text-align: right;\">\n",
       "      <th></th>\n",
       "      <th>bus</th>\n",
       "      <th>carrier</th>\n",
       "      <th>type</th>\n",
       "      <th>p_set</th>\n",
       "      <th>q_set</th>\n",
       "      <th>sign</th>\n",
       "      <th>active</th>\n",
       "    </tr>\n",
       "    <tr>\n",
       "      <th>Load</th>\n",
       "      <th></th>\n",
       "      <th></th>\n",
       "      <th></th>\n",
       "      <th></th>\n",
       "      <th></th>\n",
       "      <th></th>\n",
       "      <th></th>\n",
       "    </tr>\n",
       "  </thead>\n",
       "  <tbody>\n",
       "    <tr>\n",
       "      <th>SA electricity demand</th>\n",
       "      <td>SA</td>\n",
       "      <td>electricity</td>\n",
       "      <td></td>\n",
       "      <td>42000.0</td>\n",
       "      <td>0.0</td>\n",
       "      <td>-1.0</td>\n",
       "      <td>True</td>\n",
       "    </tr>\n",
       "    <tr>\n",
       "      <th>MZ electricity demand</th>\n",
       "      <td>MZ</td>\n",
       "      <td>electricity</td>\n",
       "      <td></td>\n",
       "      <td>650.0</td>\n",
       "      <td>0.0</td>\n",
       "      <td>-1.0</td>\n",
       "      <td>True</td>\n",
       "    </tr>\n",
       "  </tbody>\n",
       "</table>\n",
       "</div>"
      ],
      "text/plain": [
       "                      bus      carrier type    p_set  q_set  sign  active\n",
       "Load                                                                     \n",
       "SA electricity demand  SA  electricity       42000.0    0.0  -1.0    True\n",
       "MZ electricity demand  MZ  electricity         650.0    0.0  -1.0    True"
      ]
     },
     "execution_count": 15,
     "metadata": {},
     "output_type": "execute_result"
    }
   ],
   "source": [
    "n.loads"
   ]
  },
  {
   "cell_type": "code",
   "execution_count": 16,
   "id": "592b8d31-c377-476c-95d4-b67fd8f1ef7e",
   "metadata": {},
   "outputs": [
    {
     "data": {
      "text/plain": [
       "Index(['SA-MZ'], dtype='object')"
      ]
     },
     "execution_count": 16,
     "metadata": {},
     "output_type": "execute_result"
    }
   ],
   "source": [
    "n.add(\n",
    "    \"Line\",\n",
    "    \"SA-MZ\",\n",
    "    bus0=\"SA\",\n",
    "    bus1=\"MZ\",\n",
    "    s_nom=500,\n",
    "    x=1, # Impedance\n",
    "    r=1, # Reactance\n",
    ")"
   ]
  },
  {
   "cell_type": "code",
   "execution_count": 17,
   "id": "3812b2f0-1c86-4a96-b5e3-bd24d5760a51",
   "metadata": {},
   "outputs": [
    {
     "name": "stderr",
     "output_type": "stream",
     "text": [
      "C:\\Users\\MS\\anaconda3\\envs\\esm-ws-24-25\\Lib\\site-packages\\cartopy\\mpl\\feature_artist.py:143: UserWarning:\n",
      "\n",
      "facecolor will have no effect as it has been defined as \"never\".\n",
      "\n"
     ]
    },
    {
     "data": {
      "text/plain": [
       "(<matplotlib.collections.PatchCollection at 0x1bd5faea1b0>,\n",
       " <matplotlib.collections.LineCollection at 0x1bd5fb10c80>)"
      ]
     },
     "execution_count": 17,
     "metadata": {},
     "output_type": "execute_result"
    },
    {
     "data": {
      "image/png": "[encoded data removed]",
      "text/plain": [
       "<Figure size 640x480 with 1 Axes>"
      ]
     },
     "metadata": {},
     "output_type": "display_data"
    }
   ],
   "source": [
    "n.plot(bus_sizes = 1, margin = 1)"
   ]
  },
  {
   "cell_type": "code",
   "execution_count": 18,
   "id": "9788ad40-d72c-43ed-b806-804800486e86",
   "metadata": {},
   "outputs": [
    {
     "name": "stderr",
     "output_type": "stream",
     "text": [
      "WARNING:pypsa.consistency:The following loads have carriers which are not defined:\n",
      "Index(['SA electricity demand', 'MZ electricity demand'], dtype='object', name='Load')\n",
      "WARNING:pypsa.consistency:The following lines have carriers which are not defined:\n",
      "Index(['SA-MZ'], dtype='object', name='Line')\n",
      "WARNING:pypsa.consistency:The following buses have carriers which are not defined:\n",
      "Index(['SA', 'MZ'], dtype='object', name='Bus')\n",
      "INFO:linopy.model: Solve problem using Highs solver\n",
      "INFO:linopy.io: Writing time: 0.03s\n",
      "INFO:linopy.constants: Optimization successful: \n",
      "Status: ok\n",
      "Termination condition: optimal\n",
      "Solution: 6 primals, 14 duals\n",
      "Objective: 1.38e+06\n",
      "Solver model: available\n",
      "Solver message: Optimal\n",
      "\n",
      "INFO:pypsa.optimization.optimize:The shadow-prices of the constraints Generator-fix-p-lower, Generator-fix-p-upper, Line-fix-s-lower, Line-fix-s-upper were not assigned to the network.\n"
     ]
    },
    {
     "data": {
      "text/plain": [
       "('ok', 'optimal')"
      ]
     },
     "execution_count": 18,
     "metadata": {},
     "output_type": "execute_result"
    }
   ],
   "source": [
    "n.optimize(solver_name=\"highs\")"
   ]
  },
  {
   "cell_type": "code",
   "execution_count": 19,
   "id": "19523c7e-4f5f-4e00-a066-17d49b088ca0",
   "metadata": {},
   "outputs": [
    {
     "data": {
      "text/html": [
       "<div>\n",
       "<style scoped>\n",
       "    .dataframe tbody tr th:only-of-type {\n",
       "        vertical-align: middle;\n",
       "    }\n",
       "\n",
       "    .dataframe tbody tr th {\n",
       "        vertical-align: top;\n",
       "    }\n",
       "\n",
       "    .dataframe thead th {\n",
       "        text-align: right;\n",
       "    }\n",
       "</style>\n",
       "<table border=\"1\" class=\"dataframe\">\n",
       "  <thead>\n",
       "    <tr style=\"text-align: right;\">\n",
       "      <th>Generator</th>\n",
       "      <th>MZ hydro</th>\n",
       "      <th>SA coal</th>\n",
       "      <th>SA wind</th>\n",
       "      <th>SA gas</th>\n",
       "      <th>SA oil</th>\n",
       "    </tr>\n",
       "    <tr>\n",
       "      <th>snapshot</th>\n",
       "      <th></th>\n",
       "      <th></th>\n",
       "      <th></th>\n",
       "      <th></th>\n",
       "      <th></th>\n",
       "    </tr>\n",
       "  </thead>\n",
       "  <tbody>\n",
       "    <tr>\n",
       "      <th>now</th>\n",
       "      <td>1150.0</td>\n",
       "      <td>35000.0</td>\n",
       "      <td>3000.0</td>\n",
       "      <td>1500.0</td>\n",
       "      <td>2000.0</td>\n",
       "    </tr>\n",
       "  </tbody>\n",
       "</table>\n",
       "</div>"
      ],
      "text/plain": [
       "Generator  MZ hydro  SA coal  SA wind  SA gas  SA oil\n",
       "snapshot                                             \n",
       "now          1150.0  35000.0   3000.0  1500.0  2000.0"
      ]
     },
     "execution_count": 19,
     "metadata": {},
     "output_type": "execute_result"
    }
   ],
   "source": [
    "n.generators_t.p"
   ]
  },
  {
   "cell_type": "code",
   "execution_count": 20,
   "id": "4878b31a-9cb0-41ff-98c1-11dbd0def467",
   "metadata": {},
   "outputs": [
    {
     "data": {
      "text/html": [
       "<div>\n",
       "<style scoped>\n",
       "    .dataframe tbody tr th:only-of-type {\n",
       "        vertical-align: middle;\n",
       "    }\n",
       "\n",
       "    .dataframe tbody tr th {\n",
       "        vertical-align: top;\n",
       "    }\n",
       "\n",
       "    .dataframe thead th {\n",
       "        text-align: right;\n",
       "    }\n",
       "</style>\n",
       "<table border=\"1\" class=\"dataframe\">\n",
       "  <thead>\n",
       "    <tr style=\"text-align: right;\">\n",
       "      <th>Line</th>\n",
       "      <th>SA-MZ</th>\n",
       "    </tr>\n",
       "    <tr>\n",
       "      <th>snapshot</th>\n",
       "      <th></th>\n",
       "    </tr>\n",
       "  </thead>\n",
       "  <tbody>\n",
       "    <tr>\n",
       "      <th>now</th>\n",
       "      <td>-500.0</td>\n",
       "    </tr>\n",
       "  </tbody>\n",
       "</table>\n",
       "</div>"
      ],
      "text/plain": [
       "Line      SA-MZ\n",
       "snapshot       \n",
       "now      -500.0"
      ]
     },
     "execution_count": 20,
     "metadata": {},
     "output_type": "execute_result"
    }
   ],
   "source": [
    "n.lines_t.p0 # In one direction"
   ]
  },
  {
   "cell_type": "code",
   "execution_count": 21,
   "id": "ea782399-6c9f-42c0-8fe6-b4ca25b9f9fa",
   "metadata": {},
   "outputs": [
    {
     "data": {
      "text/html": [
       "<div>\n",
       "<style scoped>\n",
       "    .dataframe tbody tr th:only-of-type {\n",
       "        vertical-align: middle;\n",
       "    }\n",
       "\n",
       "    .dataframe tbody tr th {\n",
       "        vertical-align: top;\n",
       "    }\n",
       "\n",
       "    .dataframe thead th {\n",
       "        text-align: right;\n",
       "    }\n",
       "</style>\n",
       "<table border=\"1\" class=\"dataframe\">\n",
       "  <thead>\n",
       "    <tr style=\"text-align: right;\">\n",
       "      <th>Line</th>\n",
       "      <th>SA-MZ</th>\n",
       "    </tr>\n",
       "    <tr>\n",
       "      <th>snapshot</th>\n",
       "      <th></th>\n",
       "    </tr>\n",
       "  </thead>\n",
       "  <tbody>\n",
       "    <tr>\n",
       "      <th>now</th>\n",
       "      <td>500.0</td>\n",
       "    </tr>\n",
       "  </tbody>\n",
       "</table>\n",
       "</div>"
      ],
      "text/plain": [
       "Line      SA-MZ\n",
       "snapshot       \n",
       "now       500.0"
      ]
     },
     "execution_count": 21,
     "metadata": {},
     "output_type": "execute_result"
    }
   ],
   "source": [
    "n.lines_t.p1 # In one direction"
   ]
  },
  {
   "cell_type": "code",
   "execution_count": 22,
   "id": "c9cdbcd6-c5b6-4ea0-866d-deddd4d6aa14",
   "metadata": {},
   "outputs": [
    {
     "data": {
      "text/html": [
       "<div>\n",
       "<style scoped>\n",
       "    .dataframe tbody tr th:only-of-type {\n",
       "        vertical-align: middle;\n",
       "    }\n",
       "\n",
       "    .dataframe tbody tr th {\n",
       "        vertical-align: top;\n",
       "    }\n",
       "\n",
       "    .dataframe thead th {\n",
       "        text-align: right;\n",
       "    }\n",
       "</style>\n",
       "<table border=\"1\" class=\"dataframe\">\n",
       "  <thead>\n",
       "    <tr style=\"text-align: right;\">\n",
       "      <th>Bus</th>\n",
       "      <th>SA</th>\n",
       "      <th>MZ</th>\n",
       "    </tr>\n",
       "    <tr>\n",
       "      <th>snapshot</th>\n",
       "      <th></th>\n",
       "      <th></th>\n",
       "    </tr>\n",
       "  </thead>\n",
       "  <tbody>\n",
       "    <tr>\n",
       "      <th>now</th>\n",
       "      <td>172.413793</td>\n",
       "      <td>-0.0</td>\n",
       "    </tr>\n",
       "  </tbody>\n",
       "</table>\n",
       "</div>"
      ],
      "text/plain": [
       "Bus               SA   MZ\n",
       "snapshot                 \n",
       "now       172.413793 -0.0"
      ]
     },
     "execution_count": 22,
     "metadata": {},
     "output_type": "execute_result"
    }
   ],
   "source": [
    "n.buses_t.marginal_price"
   ]
  },
  {
   "cell_type": "code",
   "execution_count": 23,
   "id": "d2c3c7d3-8ae6-4bc7-8e36-a2547af4a74f",
   "metadata": {},
   "outputs": [
    {
     "name": "stderr",
     "output_type": "stream",
     "text": [
      "C:\\Users\\MS\\anaconda3\\envs\\esm-ws-24-25\\Lib\\site-packages\\cartopy\\mpl\\feature_artist.py:143: UserWarning:\n",
      "\n",
      "facecolor will have no effect as it has been defined as \"never\".\n",
      "\n"
     ]
    },
    {
     "data": {
      "text/plain": [
       "(<matplotlib.collections.PatchCollection at 0x1bd6310a1b0>,\n",
       " <matplotlib.collections.LineCollection at 0x1bd63108c80>)"
      ]
     },
     "execution_count": 23,
     "metadata": {},
     "output_type": "execute_result"
    },
    {
     "data": {
      "image/png": "[encoded data removed]",
      "text/plain": [
       "<Figure size 640x480 with 1 Axes>"
      ]
     },
     "metadata": {},
     "output_type": "display_data"
    }
   ],
   "source": [
    "n.plot(\n",
    "    margin=1,\n",
    "    bus_sizes=2,\n",
    "    bus_colors=\"orange\",\n",
    "    bus_alpha = 0.7,\n",
    "    color_geomap=True,\n",
    "    line_colors=\"orchid\",\n",
    "    line_widths=3,\n",
    "    title=\"Test\",\n",
    ")"
   ]
  },
  {
   "cell_type": "code",
   "execution_count": 24,
   "id": "f88a57b7-e899-47cd-973b-f448c8682c9d",
   "metadata": {},
   "outputs": [],
   "source": [
    "s = n.generators_t.p.loc[\"now\"].groupby([n.generators.bus, n.generators.carrier]).sum()"
   ]
  },
  {
   "cell_type": "code",
   "execution_count": 25,
   "id": "7b57c4af-b3ec-41db-b586-a6588a8bca63",
   "metadata": {},
   "outputs": [
    {
     "name": "stderr",
     "output_type": "stream",
     "text": [
      "C:\\Users\\MS\\anaconda3\\envs\\esm-ws-24-25\\Lib\\site-packages\\cartopy\\mpl\\feature_artist.py:143: UserWarning:\n",
      "\n",
      "facecolor will have no effect as it has been defined as \"never\".\n",
      "\n"
     ]
    },
    {
     "data": {
      "image/png": "[encoded data removed]",
      "text/plain": [
       "<Figure size 640x480 with 1 Axes>"
      ]
     },
     "metadata": {},
     "output_type": "display_data"
    }
   ],
   "source": [
    "n.plot(margin=1, bus_sizes=s / 3000);"
   ]
  },
  {
   "cell_type": "code",
   "execution_count": 26,
   "id": "24ccd33b-c164-4bc9-a3e2-8eccfdb49dcb",
   "metadata": {},
   "outputs": [],
   "source": [
    "n.lines.loc[\"SA-MZ\", \"s_nom\"] = 400"
   ]
  },
  {
   "cell_type": "code",
   "execution_count": 27,
   "id": "0a3c3206-d95a-47c7-841c-c5c73c4fd8a0",
   "metadata": {},
   "outputs": [
    {
     "name": "stderr",
     "output_type": "stream",
     "text": [
      "WARNING:pypsa.consistency:The following loads have carriers which are not defined:\n",
      "Index(['SA electricity demand', 'MZ electricity demand'], dtype='object', name='Load')\n",
      "WARNING:pypsa.consistency:The following sub_networks have carriers which are not defined:\n",
      "Index(['0'], dtype='object', name='SubNetwork')\n",
      "WARNING:pypsa.consistency:The following lines have carriers which are not defined:\n",
      "Index(['SA-MZ'], dtype='object', name='Line')\n",
      "WARNING:pypsa.consistency:The following buses have carriers which are not defined:\n",
      "Index(['SA', 'MZ'], dtype='object', name='Bus')\n",
      "INFO:linopy.model: Solve problem using Highs solver\n",
      "INFO:linopy.io: Writing time: 0.02s\n",
      "INFO:linopy.constants: Optimization successful: \n",
      "Status: ok\n",
      "Termination condition: optimal\n",
      "Solution: 6 primals, 14 duals\n",
      "Objective: 1.40e+06\n",
      "Solver model: available\n",
      "Solver message: Optimal\n",
      "\n",
      "INFO:pypsa.optimization.optimize:The shadow-prices of the constraints Generator-fix-p-lower, Generator-fix-p-upper, Line-fix-s-lower, Line-fix-s-upper were not assigned to the network.\n"
     ]
    },
    {
     "data": {
      "text/plain": [
       "('ok', 'optimal')"
      ]
     },
     "execution_count": 27,
     "metadata": {},
     "output_type": "execute_result"
    }
   ],
   "source": [
    "n.optimize(solver_name=\"highs\")"
   ]
  },
  {
   "cell_type": "code",
   "execution_count": 28,
   "id": "55ca64dc-46d9-4dfa-93e7-3606ea43ac89",
   "metadata": {},
   "outputs": [
    {
     "data": {
      "text/html": [
       "<div>\n",
       "<style scoped>\n",
       "    .dataframe tbody tr th:only-of-type {\n",
       "        vertical-align: middle;\n",
       "    }\n",
       "\n",
       "    .dataframe tbody tr th {\n",
       "        vertical-align: top;\n",
       "    }\n",
       "\n",
       "    .dataframe thead th {\n",
       "        text-align: right;\n",
       "    }\n",
       "</style>\n",
       "<table border=\"1\" class=\"dataframe\">\n",
       "  <thead>\n",
       "    <tr style=\"text-align: right;\">\n",
       "      <th>Line</th>\n",
       "      <th>SA-MZ</th>\n",
       "    </tr>\n",
       "    <tr>\n",
       "      <th>snapshot</th>\n",
       "      <th></th>\n",
       "    </tr>\n",
       "  </thead>\n",
       "  <tbody>\n",
       "    <tr>\n",
       "      <th>now</th>\n",
       "      <td>-400.0</td>\n",
       "    </tr>\n",
       "  </tbody>\n",
       "</table>\n",
       "</div>"
      ],
      "text/plain": [
       "Line      SA-MZ\n",
       "snapshot       \n",
       "now      -400.0"
      ]
     },
     "execution_count": 28,
     "metadata": {},
     "output_type": "execute_result"
    }
   ],
   "source": [
    "n.lines_t.p0"
   ]
  },
  {
   "cell_type": "code",
   "execution_count": 29,
   "id": "fb00a0b0-0523-4087-889b-f14cfde636e6",
   "metadata": {},
   "outputs": [
    {
     "data": {
      "text/html": [
       "<div>\n",
       "<style scoped>\n",
       "    .dataframe tbody tr th:only-of-type {\n",
       "        vertical-align: middle;\n",
       "    }\n",
       "\n",
       "    .dataframe tbody tr th {\n",
       "        vertical-align: top;\n",
       "    }\n",
       "\n",
       "    .dataframe thead th {\n",
       "        text-align: right;\n",
       "    }\n",
       "</style>\n",
       "<table border=\"1\" class=\"dataframe\">\n",
       "  <thead>\n",
       "    <tr style=\"text-align: right;\">\n",
       "      <th>Line</th>\n",
       "      <th>SA-MZ</th>\n",
       "    </tr>\n",
       "    <tr>\n",
       "      <th>snapshot</th>\n",
       "      <th></th>\n",
       "    </tr>\n",
       "  </thead>\n",
       "  <tbody>\n",
       "    <tr>\n",
       "      <th>now</th>\n",
       "      <td>400.0</td>\n",
       "    </tr>\n",
       "  </tbody>\n",
       "</table>\n",
       "</div>"
      ],
      "text/plain": [
       "Line      SA-MZ\n",
       "snapshot       \n",
       "now       400.0"
      ]
     },
     "execution_count": 29,
     "metadata": {},
     "output_type": "execute_result"
    }
   ],
   "source": [
    "n.lines_t.p1"
   ]
  },
  {
   "cell_type": "code",
   "execution_count": 30,
   "id": "6c15500b-a1bd-42b6-93b4-f81a86ee52dc",
   "metadata": {},
   "outputs": [
    {
     "data": {
      "text/html": [
       "<div>\n",
       "<style scoped>\n",
       "    .dataframe tbody tr th:only-of-type {\n",
       "        vertical-align: middle;\n",
       "    }\n",
       "\n",
       "    .dataframe tbody tr th {\n",
       "        vertical-align: top;\n",
       "    }\n",
       "\n",
       "    .dataframe thead th {\n",
       "        text-align: right;\n",
       "    }\n",
       "</style>\n",
       "<table border=\"1\" class=\"dataframe\">\n",
       "  <thead>\n",
       "    <tr style=\"text-align: right;\">\n",
       "      <th>Generator</th>\n",
       "      <th>MZ hydro</th>\n",
       "      <th>SA coal</th>\n",
       "      <th>SA wind</th>\n",
       "      <th>SA gas</th>\n",
       "      <th>SA oil</th>\n",
       "    </tr>\n",
       "    <tr>\n",
       "      <th>snapshot</th>\n",
       "      <th></th>\n",
       "      <th></th>\n",
       "      <th></th>\n",
       "      <th></th>\n",
       "      <th></th>\n",
       "    </tr>\n",
       "  </thead>\n",
       "  <tbody>\n",
       "    <tr>\n",
       "      <th>now</th>\n",
       "      <td>0.0</td>\n",
       "      <td>36060.606061</td>\n",
       "      <td>0.0</td>\n",
       "      <td>551.724138</td>\n",
       "      <td>1485.714286</td>\n",
       "    </tr>\n",
       "  </tbody>\n",
       "</table>\n",
       "</div>"
      ],
      "text/plain": [
       "Generator  MZ hydro       SA coal  SA wind      SA gas       SA oil\n",
       "snapshot                                                           \n",
       "now             0.0  36060.606061      0.0  551.724138  1485.714286"
      ]
     },
     "execution_count": 30,
     "metadata": {},
     "output_type": "execute_result"
    }
   ],
   "source": [
    "e = (\n",
    "    n.generators_t.p * n.generators.carrier.map(n.carriers.co2_emissions) / n.generators.efficiency\n",
    ")\n",
    "e"
   ]
  },
  {
   "cell_type": "code",
   "execution_count": 31,
   "id": "10f96e6e-2153-47ea-a545-bd4dcb9fe9af",
   "metadata": {},
   "outputs": [
    {
     "data": {
      "text/plain": [
       "np.float64(38098.044484251375)"
      ]
     },
     "execution_count": 31,
     "metadata": {},
     "output_type": "execute_result"
    }
   ],
   "source": [
    "e.sum().sum()"
   ]
  },
  {
   "cell_type": "code",
   "execution_count": 32,
   "id": "8eaaf4d0-c1b8-4343-8630-aaa6a394d4b2",
   "metadata": {},
   "outputs": [
    {
     "data": {
      "text/plain": [
       "Index(['emission_limit'], dtype='object')"
      ]
     },
     "execution_count": 32,
     "metadata": {},
     "output_type": "execute_result"
    }
   ],
   "source": [
    "n.add(\n",
    "    \"GlobalConstraint\", # Key Element\n",
    "    \"emission_limit\", # Just a name\n",
    "    carrier_attribute=\"co2_emissions\",\n",
    "    sense=\"<=\",\n",
    "    constant=e.sum().sum() * 0.9,\n",
    ")"
   ]
  },
  {
   "cell_type": "code",
   "execution_count": 33,
   "id": "688f8d5a-5060-4864-9f55-21b33d3824bb",
   "metadata": {},
   "outputs": [
    {
     "name": "stderr",
     "output_type": "stream",
     "text": [
      "WARNING:pypsa.consistency:The following loads have carriers which are not defined:\n",
      "Index(['SA electricity demand', 'MZ electricity demand'], dtype='object', name='Load')\n",
      "WARNING:pypsa.consistency:The following sub_networks have carriers which are not defined:\n",
      "Index(['0'], dtype='object', name='SubNetwork')\n",
      "WARNING:pypsa.consistency:The following lines have carriers which are not defined:\n",
      "Index(['SA-MZ'], dtype='object', name='Line')\n",
      "WARNING:pypsa.consistency:The following buses have carriers which are not defined:\n",
      "Index(['SA', 'MZ'], dtype='object', name='Bus')\n",
      "INFO:linopy.model: Solve problem using Highs solver\n",
      "INFO:linopy.io: Writing time: 0.02s\n",
      "INFO:linopy.constants: Optimization successful: \n",
      "Status: ok\n",
      "Termination condition: optimal\n",
      "Solution: 6 primals, 15 duals\n",
      "Objective: 2.12e+06\n",
      "Solver model: available\n",
      "Solver message: Optimal\n",
      "\n",
      "INFO:pypsa.optimization.optimize:The shadow-prices of the constraints Generator-fix-p-lower, Generator-fix-p-upper, Line-fix-s-lower, Line-fix-s-upper were not assigned to the network.\n"
     ]
    },
    {
     "data": {
      "text/plain": [
       "('ok', 'optimal')"
      ]
     },
     "execution_count": 33,
     "metadata": {},
     "output_type": "execute_result"
    }
   ],
   "source": [
    "n.optimize(solver_name = \"highs\")"
   ]
  },
  {
   "cell_type": "code",
   "execution_count": 34,
   "id": "4f4ee689-842f-4501-9c43-9dac37b747b2",
   "metadata": {},
   "outputs": [],
   "source": [
    "n.global_constraints.loc[\"emission_limit\", \"constant\"] = 0.85 * e.sum().sum()"
   ]
  },
  {
   "cell_type": "code",
   "execution_count": 35,
   "id": "d6bf6733-1526-438a-8e43-5d93c1264d46",
   "metadata": {},
   "outputs": [
    {
     "name": "stderr",
     "output_type": "stream",
     "text": [
      "WARNING:pypsa.consistency:The following loads have carriers which are not defined:\n",
      "Index(['SA electricity demand', 'MZ electricity demand'], dtype='object', name='Load')\n",
      "WARNING:pypsa.consistency:The following sub_networks have carriers which are not defined:\n",
      "Index(['0'], dtype='object', name='SubNetwork')\n",
      "WARNING:pypsa.consistency:The following lines have carriers which are not defined:\n",
      "Index(['SA-MZ'], dtype='object', name='Line')\n",
      "WARNING:pypsa.consistency:The following buses have carriers which are not defined:\n",
      "Index(['SA', 'MZ'], dtype='object', name='Bus')\n",
      "INFO:linopy.model: Solve problem using Highs solver\n",
      "INFO:linopy.io: Writing time: 0.02s\n",
      "WARNING:linopy.constants:Optimization potentially failed: \n",
      "Status: warning\n",
      "Termination condition: infeasible\n",
      "Solution: 0 primals, 0 duals\n",
      "Objective: nan\n",
      "Solver model: available\n",
      "Solver message: Infeasible\n",
      "\n"
     ]
    },
    {
     "data": {
      "text/plain": [
       "('warning', 'infeasible')"
      ]
     },
     "execution_count": 35,
     "metadata": {},
     "output_type": "execute_result"
    }
   ],
   "source": [
    "n.optimize(solver_name=\"highs\")"
   ]
  },
  {
   "cell_type": "code",
   "execution_count": 36,
   "id": "f6ce0764-c717-43fb-8f99-926dbc7279ed",
   "metadata": {},
   "outputs": [],
   "source": [
    "n.global_constraints.loc[\"emission_limit\", \"constant\"] = 0.95 * e.sum().sum()"
   ]
  },
  {
   "cell_type": "code",
   "execution_count": 37,
   "id": "7405eecb-a718-4826-989f-f18fa92099e2",
   "metadata": {},
   "outputs": [
    {
     "name": "stderr",
     "output_type": "stream",
     "text": [
      "WARNING:pypsa.consistency:The following loads have carriers which are not defined:\n",
      "Index(['SA electricity demand', 'MZ electricity demand'], dtype='object', name='Load')\n",
      "WARNING:pypsa.consistency:The following sub_networks have carriers which are not defined:\n",
      "Index(['0'], dtype='object', name='SubNetwork')\n",
      "WARNING:pypsa.consistency:The following lines have carriers which are not defined:\n",
      "Index(['SA-MZ'], dtype='object', name='Line')\n",
      "WARNING:pypsa.consistency:The following buses have carriers which are not defined:\n",
      "Index(['SA', 'MZ'], dtype='object', name='Bus')\n",
      "INFO:linopy.model: Solve problem using Highs solver\n",
      "INFO:linopy.io: Writing time: 0.02s\n",
      "INFO:linopy.constants: Optimization successful: \n",
      "Status: ok\n",
      "Termination condition: optimal\n",
      "Solution: 6 primals, 15 duals\n",
      "Objective: 1.71e+06\n",
      "Solver model: available\n",
      "Solver message: Optimal\n",
      "\n",
      "INFO:pypsa.optimization.optimize:The shadow-prices of the constraints Generator-fix-p-lower, Generator-fix-p-upper, Line-fix-s-lower, Line-fix-s-upper were not assigned to the network.\n"
     ]
    },
    {
     "data": {
      "text/plain": [
       "('ok', 'optimal')"
      ]
     },
     "execution_count": 37,
     "metadata": {},
     "output_type": "execute_result"
    }
   ],
   "source": [
    "n.optimize(solver_name=\"highs\")"
   ]
  },
  {
   "cell_type": "code",
   "execution_count": 38,
   "id": "b164586b-30f3-446f-928d-72b9803fdc2c",
   "metadata": {},
   "outputs": [
    {
     "data": {
      "text/html": [
       "<div>\n",
       "<style scoped>\n",
       "    .dataframe tbody tr th:only-of-type {\n",
       "        vertical-align: middle;\n",
       "    }\n",
       "\n",
       "    .dataframe tbody tr th {\n",
       "        vertical-align: top;\n",
       "    }\n",
       "\n",
       "    .dataframe thead th {\n",
       "        text-align: right;\n",
       "    }\n",
       "</style>\n",
       "<table border=\"1\" class=\"dataframe\">\n",
       "  <thead>\n",
       "    <tr style=\"text-align: right;\">\n",
       "      <th></th>\n",
       "      <th>type</th>\n",
       "      <th>investment_period</th>\n",
       "      <th>carrier_attribute</th>\n",
       "      <th>sense</th>\n",
       "      <th>constant</th>\n",
       "      <th>mu</th>\n",
       "    </tr>\n",
       "    <tr>\n",
       "      <th>GlobalConstraint</th>\n",
       "      <th></th>\n",
       "      <th></th>\n",
       "      <th></th>\n",
       "      <th></th>\n",
       "      <th></th>\n",
       "      <th></th>\n",
       "    </tr>\n",
       "  </thead>\n",
       "  <tbody>\n",
       "    <tr>\n",
       "      <th>emission_limit</th>\n",
       "      <td>primary_energy</td>\n",
       "      <td>NaN</td>\n",
       "      <td>co2_emissions</td>\n",
       "      <td>&lt;=</td>\n",
       "      <td>36193.14226</td>\n",
       "      <td>-216.158537</td>\n",
       "    </tr>\n",
       "  </tbody>\n",
       "</table>\n",
       "</div>"
      ],
      "text/plain": [
       "                            type  investment_period carrier_attribute sense  \\\n",
       "GlobalConstraint                                                              \n",
       "emission_limit    primary_energy                NaN     co2_emissions    <=   \n",
       "\n",
       "                     constant          mu  \n",
       "GlobalConstraint                           \n",
       "emission_limit    36193.14226 -216.158537  "
      ]
     },
     "execution_count": 38,
     "metadata": {},
     "output_type": "execute_result"
    }
   ],
   "source": [
    "n.global_constraints"
   ]
  },
  {
   "cell_type": "code",
   "execution_count": null,
   "id": "4a1b09af-c97f-489a-a717-0752931d803d",
   "metadata": {},
   "outputs": [],
   "source": []
  }
 ],
 "metadata": {
  "kernelspec": {
   "display_name": "Python 3 (ipykernel)",
   "language": "python",
   "name": "python3"
  },
  "language_info": {
   "codemirror_mode": {
    "name": "ipython",
    "version": 3
   },
   "file_extension": ".py",
   "mimetype": "text/x-python",
   "name": "python",
   "nbconvert_exporter": "python",
   "pygments_lexer": "ipython3",
   "version": "3.12.11"
  }
 },
 "nbformat": 4,
 "nbformat_minor": 5
}
